{
 "cells": [
  {
   "cell_type": "markdown",
   "id": "connected-expansion",
   "metadata": {},
   "source": [
    "# Imports"
   ]
  },
  {
   "cell_type": "code",
   "execution_count": 1,
   "id": "adequate-saver",
   "metadata": {},
   "outputs": [
    {
     "name": "stderr",
     "output_type": "stream",
     "text": [
      "[nltk_data] Downloading package stopwords to\n",
      "[nltk_data]     /afs/inf.ed.ac.uk/user/s21/s2125219/nltk_data...\n",
      "[nltk_data]   Package stopwords is already up-to-date!\n"
     ]
    }
   ],
   "source": [
    "import math\n",
    "import json\n",
    "import string\n",
    "import numpy as np\n",
    "import pandas as pd\n",
    "import seaborn as sns\n",
    "import matplotlib.pyplot as plt\n",
    "\n",
    "from sklearn.feature_extraction.text import TfidfVectorizer\n",
    "from collections import defaultdict\n",
    "from json import JSONEncoder\n",
    "from classes.data_loader import DataLoader\n",
    "from utils.helpers import select_n_components, pos_check\n",
    "\n",
    "plt.style.use('ggplot')\n",
    "sns.set_palette('tab10')"
   ]
  },
  {
   "cell_type": "markdown",
   "id": "continuous-distance",
   "metadata": {},
   "source": [
    "# Load Data"
   ]
  },
  {
   "cell_type": "code",
   "execution_count": 2,
   "id": "reduced-classroom",
   "metadata": {},
   "outputs": [
    {
     "name": "stderr",
     "output_type": "stream",
     "text": [
      "  1%|▏         | 3435/239073 [00:00<00:06, 34344.96it/s]"
     ]
    },
    {
     "name": "stdout",
     "output_type": "stream",
     "text": [
      "Preprocessing...\n"
     ]
    },
    {
     "name": "stderr",
     "output_type": "stream",
     "text": [
      "100%|██████████| 239073/239073 [00:05<00:00, 42109.45it/s]\n"
     ]
    },
    {
     "data": {
      "text/html": [
       "<div>\n",
       "<style scoped>\n",
       "    .dataframe tbody tr th:only-of-type {\n",
       "        vertical-align: middle;\n",
       "    }\n",
       "\n",
       "    .dataframe tbody tr th {\n",
       "        vertical-align: top;\n",
       "    }\n",
       "\n",
       "    .dataframe thead th {\n",
       "        text-align: right;\n",
       "    }\n",
       "</style>\n",
       "<table border=\"1\" class=\"dataframe\">\n",
       "  <thead>\n",
       "    <tr style=\"text-align: right;\">\n",
       "      <th></th>\n",
       "      <th>phrase_id</th>\n",
       "      <th>phrase</th>\n",
       "      <th>phrase_clean</th>\n",
       "      <th>sentiment_val</th>\n",
       "      <th>label_id</th>\n",
       "      <th>label</th>\n",
       "    </tr>\n",
       "  </thead>\n",
       "  <tbody>\n",
       "    <tr>\n",
       "      <th>52864</th>\n",
       "      <td>26859</td>\n",
       "      <td>The movie 's quiet affirmation of neighborhood...</td>\n",
       "      <td>The movie quiet affirmation neighborhood value...</td>\n",
       "      <td>0.81944</td>\n",
       "      <td>5.0</td>\n",
       "      <td>Very positive</td>\n",
       "    </tr>\n",
       "    <tr>\n",
       "      <th>144724</th>\n",
       "      <td>164008</td>\n",
       "      <td>its characters toward sainthood</td>\n",
       "      <td>characters toward sainthood</td>\n",
       "      <td>0.50000</td>\n",
       "      <td>3.0</td>\n",
       "      <td>Neutral</td>\n",
       "    </tr>\n",
       "    <tr>\n",
       "      <th>32416</th>\n",
       "      <td>184719</td>\n",
       "      <td>I think even fans of Sandler 's comic taste ma...</td>\n",
       "      <td>I think even fans Sandler comic taste may find...</td>\n",
       "      <td>0.19444</td>\n",
       "      <td>1.0</td>\n",
       "      <td>Very negative</td>\n",
       "    </tr>\n",
       "    <tr>\n",
       "      <th>134388</th>\n",
       "      <td>202347</td>\n",
       "      <td>interesting matters</td>\n",
       "      <td>interesting matters</td>\n",
       "      <td>0.66667</td>\n",
       "      <td>4.0</td>\n",
       "      <td>Positive</td>\n",
       "    </tr>\n",
       "    <tr>\n",
       "      <th>102418</th>\n",
       "      <td>196810</td>\n",
       "      <td>deserve better</td>\n",
       "      <td>deserve better</td>\n",
       "      <td>0.38889</td>\n",
       "      <td>2.0</td>\n",
       "      <td>Negative</td>\n",
       "    </tr>\n",
       "  </tbody>\n",
       "</table>\n",
       "</div>"
      ],
      "text/plain": [
       "        phrase_id                                             phrase  \\\n",
       "52864       26859  The movie 's quiet affirmation of neighborhood...   \n",
       "144724     164008                    its characters toward sainthood   \n",
       "32416      184719  I think even fans of Sandler 's comic taste ma...   \n",
       "134388     202347                                interesting matters   \n",
       "102418     196810                                     deserve better   \n",
       "\n",
       "                                             phrase_clean  sentiment_val  \\\n",
       "52864   The movie quiet affirmation neighborhood value...        0.81944   \n",
       "144724                        characters toward sainthood        0.50000   \n",
       "32416   I think even fans Sandler comic taste may find...        0.19444   \n",
       "134388                                interesting matters        0.66667   \n",
       "102418                                     deserve better        0.38889   \n",
       "\n",
       "        label_id          label  \n",
       "52864        5.0  Very positive  \n",
       "144724       3.0        Neutral  \n",
       "32416        1.0  Very negative  \n",
       "134388       4.0       Positive  \n",
       "102418       2.0       Negative  "
      ]
     },
     "execution_count": 2,
     "metadata": {},
     "output_type": "execute_result"
    }
   ],
   "source": [
    "df, _, _ = DataLoader().create_dataframe(preprocess=True, split=True, remove_duplicates=False)\n",
    "df.head()"
   ]
  },
  {
   "cell_type": "code",
   "execution_count": 3,
   "id": "automatic-animal",
   "metadata": {},
   "outputs": [
    {
     "data": {
      "text/plain": [
       "(142410, 6)"
      ]
     },
     "execution_count": 3,
     "metadata": {},
     "output_type": "execute_result"
    }
   ],
   "source": [
    "df.shape"
   ]
  },
  {
   "cell_type": "markdown",
   "id": "operational-round",
   "metadata": {},
   "source": [
    "# Helper functions"
   ]
  },
  {
   "cell_type": "code",
   "execution_count": 4,
   "id": "speaking-defense",
   "metadata": {},
   "outputs": [],
   "source": [
    "def plot_stats(stats, xlabel, ylabel, title, save_fig=False):\n",
    "    fig, ax = plt.subplots(figsize = (8,4))\n",
    "    \n",
    "    ax = stats.mean().plot(kind='bar', alpha=0.65)\n",
    "    ax = stats.median().plot(kind='bar', alpha=0.65)\n",
    "    \n",
    "    ax.set_xlabel(xlabel)\n",
    "    ax.set_ylabel(ylabel)\n",
    "    ax.set_title(title)\n",
    "    \n",
    "    plt.legend(['Mean', 'Median'])\n",
    "    \n",
    "    if save_fig:\n",
    "        plt.savefig('mean_med', dpi=300)"
   ]
  },
  {
   "cell_type": "markdown",
   "id": "placed-carnival",
   "metadata": {},
   "source": [
    "# Duplicates"
   ]
  },
  {
   "cell_type": "code",
   "execution_count": 5,
   "id": "thorough-repeat",
   "metadata": {},
   "outputs": [],
   "source": [
    "class PhraseCount:\n",
    "    def __init__(self):\n",
    "        self.label = \"\"\n",
    "        self.count = 0\n",
    "        \n",
    "class Encoder(JSONEncoder):\n",
    "    def default(self, o):\n",
    "        return o.__dict__\n",
    "\n",
    "def get_phrase_counts(df):\n",
    "    phrase_count = defaultdict(PhraseCount)\n",
    "    \n",
    "    for p, l in zip(df['phrase_clean'], df['label']):\n",
    "        phrase_count[p].label = l\n",
    "        phrase_count[p].count += 1\n",
    "        \n",
    "    return phrase_count\n",
    "    \n",
    "def get_duplicates(df):  \n",
    "    neutral_counts = []\n",
    "    neutral_lens = []\n",
    "\n",
    "    very_neg_counts = []\n",
    "    very_neg_lens = []\n",
    "\n",
    "    neg_counts = []\n",
    "    neg_lens = []\n",
    "\n",
    "    very_pos_counts = []\n",
    "    very_pos_lens = []\n",
    "\n",
    "    pos_counts = []\n",
    "    pos_lens = []\n",
    "\n",
    "    phrase_count = get_phrase_counts(df)\n",
    "    \n",
    "    for k, v in json.loads(Encoder().encode(phrase_count)).items():\n",
    "        if v['count'] > 1:\n",
    "            if v['label'] == 'Neutral':\n",
    "                neutral_counts.append(v['count'])\n",
    "                neutral_lens.append(len(k.split()))\n",
    "            if v['label'] == 'Very negative':\n",
    "                very_neg_counts.append(v['count'])\n",
    "                very_neg_lens.append(len(k.split()))\n",
    "            if v['label'] == 'Negative':\n",
    "                neg_counts.append(v['count'])\n",
    "                neg_lens.append(len(k.split()))\n",
    "            if v['label'] == 'Very positive':\n",
    "                very_pos_counts.append(v['count'])\n",
    "                very_pos_lens.append(len(k.split()))\n",
    "            if v['label'] == 'Positive':\n",
    "                pos_counts.append(v['count'])\n",
    "                pos_lens.append(len(k.split()))\n",
    "    \n",
    "    return neutral_counts, neutral_lens, very_neg_counts, very_neg_lens, neg_counts, neg_lens, very_pos_counts, very_pos_lens, pos_counts, pos_lens\n",
    "\n",
    "neutral_counts, neutral_lens, very_neg_counts, very_neg_lens, neg_counts, neg_lens, very_pos_counts, very_pos_lens, pos_counts, pos_lens = get_duplicates(df)\n",
    "\n",
    "total_neutral = df[df['label'] == 'Neutral'].shape[0]\n",
    "total_very_neg = df[df['label'] == 'Very negative'].shape[0]\n",
    "total_neg = df[df['label'] == 'Negative'].shape[0]\n",
    "total_very_pos = df[df['label'] == 'Very positive'].shape[0]\n",
    "total_pos = df[df['label'] == 'Positive'].shape[0]\n",
    "\n",
    "duplicates = [sum(neutral_counts), sum(pos_counts), sum(neg_counts), sum(very_pos_counts), sum(very_neg_counts)]"
   ]
  },
  {
   "cell_type": "code",
   "execution_count": 6,
   "id": "reserved-greek",
   "metadata": {},
   "outputs": [
    {
     "data": {
      "text/plain": [
       "(3.041504539559014,\n",
       " 6.057330827067669,\n",
       " 4.619138149556401,\n",
       " 5.283006535947712,\n",
       " 4.33816075307748)"
      ]
     },
     "execution_count": 6,
     "metadata": {},
     "output_type": "execute_result"
    }
   ],
   "source": [
    "np.mean(neutral_lens), np.mean(very_neg_lens), np.mean(neg_lens), np.mean(very_pos_lens), np.mean(pos_lens)"
   ]
  },
  {
   "cell_type": "code",
   "execution_count": 7,
   "id": "composite-spank",
   "metadata": {},
   "outputs": [
    {
     "data": {
      "text/plain": [
       "(2.0, 5.0, 4.0, 4.0, 3.0)"
      ]
     },
     "execution_count": 7,
     "metadata": {},
     "output_type": "execute_result"
    }
   ],
   "source": [
    "np.median(neutral_lens), np.median(very_neg_lens), np.median(neg_lens), np.median(very_pos_lens), np.median(pos_lens)"
   ]
  },
  {
   "cell_type": "code",
   "execution_count": 8,
   "id": "caroline-adoption",
   "metadata": {},
   "outputs": [
    {
     "data": {
      "text/plain": [
       "([<matplotlib.axis.XTick at 0x7f7331557d90>,\n",
       "  <matplotlib.axis.XTick at 0x7f73311f3a90>,\n",
       "  <matplotlib.axis.XTick at 0x7f7333772190>,\n",
       "  <matplotlib.axis.XTick at 0x7f7333775b90>,\n",
       "  <matplotlib.axis.XTick at 0x7f7333777fd0>],\n",
       " [Text(0, 0, 'Neutral'),\n",
       "  Text(1, 0, 'Positive'),\n",
       "  Text(2, 0, 'Negative'),\n",
       "  Text(3, 0, 'Very positive'),\n",
       "  Text(4, 0, 'Very negative')])"
      ]
     },
     "execution_count": 8,
     "metadata": {},
     "output_type": "execute_result"
    },
    {
     "data": {
      "image/png": "[encoded data removed]",
      "text/plain": [
       "<Figure size 720x432 with 1 Axes>"
      ]
     },
     "metadata": {},
     "output_type": "display_data"
    }
   ],
   "source": [
    "fig, ax = plt.subplots(figsize = (10,6))\n",
    "\n",
    "sns.boxplot(data=[neutral_lens, pos_lens, neg_lens, very_pos_lens, very_neg_lens])\n",
    "plt.title('Phrase length for duplicate phrases', fontsize=16)\n",
    "plt.ylabel('Phrase length')\n",
    "\n",
    "plt.xticks(ticks=[0, 1, 2, 3, 4], \n",
    "           labels=['Neutral', 'Positive', 'Negative', 'Very positive', 'Very negative'],\n",
    "           rotation=0)\n",
    "\n",
    "# plt.savefig('phrase_len', dpi=300)"
   ]
  },
  {
   "cell_type": "code",
   "execution_count": 9,
   "id": "frequent-prediction",
   "metadata": {},
   "outputs": [],
   "source": [
    "totals = [total_neutral, total_pos, total_neg, total_very_pos, total_very_neg]"
   ]
  },
  {
   "cell_type": "code",
   "execution_count": 10,
   "id": "representative-louisiana",
   "metadata": {},
   "outputs": [],
   "source": [
    "dupls = pd.DataFrame({'Total': totals, 'Duplicate': duplicates})"
   ]
  },
  {
   "cell_type": "code",
   "execution_count": 11,
   "id": "purple-salon",
   "metadata": {},
   "outputs": [
    {
     "data": {
      "text/plain": [
       "(142410, 65132)"
      ]
     },
     "execution_count": 11,
     "metadata": {},
     "output_type": "execute_result"
    }
   ],
   "source": [
    "dupls['Total'].sum(), dupls['Duplicate'].sum()"
   ]
  },
  {
   "cell_type": "code",
   "execution_count": 12,
   "id": "acting-shoot",
   "metadata": {
    "scrolled": false
   },
   "outputs": [
    {
     "data": {
      "text/plain": [
       "Text(0.5, 0, 'Sentiment')"
      ]
     },
     "execution_count": 12,
     "metadata": {},
     "output_type": "execute_result"
    },
    {
     "data": {
      "image/png": "[encoded data removed]",
      "text/plain": [
       "<Figure size 720x432 with 1 Axes>"
      ]
     },
     "metadata": {},
     "output_type": "display_data"
    }
   ],
   "source": [
    "ax = dupls.plot(kind='bar', stacked=False, alpha=0.65, figsize=(10,6))\n",
    "ax.set_xticklabels(['Neutral', 'Positive', 'Negative', 'Very positive', 'Very negative'], rotation=0)\n",
    "ax.set_title('Number of deduplicated phrases per label', fontsize=16)\n",
    "ax.set_ylabel('Frequency')\n",
    "ax.set_xlabel('Sentiment')\n",
    "\n",
    "# plt.savefig('dupls', dpi=300)"
   ]
  },
  {
   "cell_type": "code",
   "execution_count": 13,
   "id": "multiple-valentine",
   "metadata": {
    "scrolled": true
   },
   "outputs": [],
   "source": [
    "phrases_to_dedup = []\n",
    "\n",
    "phrase_count = get_phrase_counts(df)\n",
    "\n",
    "for k, v in json.loads(Encoder().encode(phrase_count)).items():\n",
    "    if v['count'] > 1: # Duplicates\n",
    "        if len(k.split()) > 4:\n",
    "            if v['label'] == 'Positive':\n",
    "                phrases_to_dedup.append(k)"
   ]
  },
  {
   "cell_type": "code",
   "execution_count": 14,
   "id": "metric-lobby",
   "metadata": {},
   "outputs": [
    {
     "data": {
      "text/plain": [
       "['always joy watch even material firstrate',\n",
       " 'make interesting subject thought would leave cold',\n",
       " 'The film delivers full assault Reno immense wit insight',\n",
       " 'incongruous chemically perfect teaming Crystal De Niro',\n",
       " 'get accents All Nothing becomes emotional though still positive wrench sit .',\n",
       " 'A film takes inside rhythms subject',\n",
       " 'cool actors never seems aware coolness',\n",
       " 'make subject interesting nt part supposed target audience . Judging standards Scratch pretty decent little documentary',\n",
       " 'Not cozy ingratiating work challenging sometimes clever always interesting',\n",
       " 'nice look wait story get going',\n",
       " 'always rehashes feed younger generations',\n",
       " 'cold oddly colorful plain otherworldly',\n",
       " 'benefit enormously Cockettes camera craziness',\n",
       " 'wacky inspired little film works effortlessly delivering genuine acerbic laughs .',\n",
       " 'apparently Aniston always needed grow movie career',\n",
       " 'aims funny uplifting moving sometimes',\n",
       " 'ambiguity lends conflicts symbolic resonance',\n",
       " 'expanded worked compelling single feature',\n",
       " 'distinctive sensibility working develop film language conspicuous success',\n",
       " 'PunchDrunk Love never heavyhanded .',\n",
       " 'Nair constructed motion picture way even cynical curmudgeon find smiling one time another .',\n",
       " 'domestic unit finding way joy',\n",
       " 'get past fantastical aspects harsh realities isle get sockyouintheeye flick visual tourdeforce story unlike',\n",
       " 'feelgood movie still show real heart',\n",
       " 'way bring happiness loved ones',\n",
       " 'fallen sweet melancholy spell unique director previous films',\n",
       " 'every member ensemble something fascinating',\n",
       " 'lot careful period attention well welcome wit',\n",
       " 'simple telling proves simultaneously harrowing uplifting',\n",
       " 'emotionally complex dramatically satisfying heroine',\n",
       " 'concerned souls risk schemes consequences one actions',\n",
       " 'movie seems confident enough handle subtlety',\n",
       " 'endearing hear Madame D. refer husband Jackie make excellent company',\n",
       " 'finish featuring fall grace still leaves shockwaves',\n",
       " 'live apparent skills makers talents actors',\n",
       " 'truly capture terrifying angst modern working man without turning film cheap thriller dumb comedy sappy',\n",
       " 'also happens movie admirable quality',\n",
       " 'barely realize mind blown .',\n",
       " 'film hold pretty well .',\n",
       " 'There admirable rigor Jimmy relentless anger script refusal happy ending',\n",
       " 'summer screen escapism used decades geared grownups',\n",
       " 'really amusing concept hightech tux transforms wearer superman',\n",
       " 'need watch thirty seconds say Ah yes',\n",
       " 'played working class community nation',\n",
       " 'courtroom movies nifty twists crucial genre another firstrate performance topbilled star Bruce Willis',\n",
       " 'surprised variety tones Spielberg work',\n",
       " 'largely makes looseygoosey experimental entertainment . Still',\n",
       " 'rival live fine little amusebouche keep appetite',\n",
       " 'admit semiamusing watch Robert DeNiro belt When Jet',\n",
       " 'heart film rests relationship Sullivan son .']"
      ]
     },
     "execution_count": 14,
     "metadata": {},
     "output_type": "execute_result"
    }
   ],
   "source": [
    "phrases_to_dedup[:50]"
   ]
  },
  {
   "cell_type": "markdown",
   "id": "palestinian-battery",
   "metadata": {},
   "source": [
    "# Label Class Balance"
   ]
  },
  {
   "cell_type": "code",
   "execution_count": 15,
   "id": "accredited-wells",
   "metadata": {},
   "outputs": [
    {
     "data": {
      "text/plain": [
       "[Text(0, 0, 'Neutral'),\n",
       " Text(1, 0, 'Positive'),\n",
       " Text(2, 0, 'Negative'),\n",
       " Text(3, 0, 'Very positive'),\n",
       " Text(4, 0, 'Very negative')]"
      ]
     },
     "execution_count": 15,
     "metadata": {},
     "output_type": "execute_result"
    },
    {
     "data": {
      "image/png": "[encoded data removed]",
      "text/plain": [
       "<Figure size 576x288 with 1 Axes>"
      ]
     },
     "metadata": {},
     "output_type": "display_data"
    }
   ],
   "source": [
    "fig, ax = plt.subplots(figsize = (8,4))\n",
    "ax = df['label'].sort_values(ascending=False).value_counts().plot(kind='bar', alpha=0.65)\n",
    "ax.set_xlabel('Sentiment')\n",
    "ax.set_ylabel('Frequency')\n",
    "ax.set_title('Class label balance')\n",
    "\n",
    "ax.set_xticklabels(['Neutral', 'Positive', 'Negative', 'Very positive', 'Very negative'], rotation=0)"
   ]
  },
  {
   "cell_type": "markdown",
   "id": "compound-rapid",
   "metadata": {},
   "source": [
    "# Word Count"
   ]
  },
  {
   "cell_type": "code",
   "execution_count": 16,
   "id": "physical-characteristic",
   "metadata": {},
   "outputs": [
    {
     "data": {
      "text/html": [
       "<div>\n",
       "<style scoped>\n",
       "    .dataframe tbody tr th:only-of-type {\n",
       "        vertical-align: middle;\n",
       "    }\n",
       "\n",
       "    .dataframe tbody tr th {\n",
       "        vertical-align: top;\n",
       "    }\n",
       "\n",
       "    .dataframe thead th {\n",
       "        text-align: right;\n",
       "    }\n",
       "</style>\n",
       "<table border=\"1\" class=\"dataframe\">\n",
       "  <thead>\n",
       "    <tr style=\"text-align: right;\">\n",
       "      <th></th>\n",
       "      <th>count</th>\n",
       "      <th>mean</th>\n",
       "      <th>std</th>\n",
       "      <th>min</th>\n",
       "      <th>25%</th>\n",
       "      <th>50%</th>\n",
       "      <th>75%</th>\n",
       "      <th>max</th>\n",
       "    </tr>\n",
       "    <tr>\n",
       "      <th>label</th>\n",
       "      <th></th>\n",
       "      <th></th>\n",
       "      <th></th>\n",
       "      <th></th>\n",
       "      <th></th>\n",
       "      <th></th>\n",
       "      <th></th>\n",
       "      <th></th>\n",
       "    </tr>\n",
       "  </thead>\n",
       "  <tbody>\n",
       "    <tr>\n",
       "      <th>Negative</th>\n",
       "      <td>25918.0</td>\n",
       "      <td>5.557528</td>\n",
       "      <td>4.366650</td>\n",
       "      <td>1.0</td>\n",
       "      <td>2.0</td>\n",
       "      <td>4.0</td>\n",
       "      <td>8.0</td>\n",
       "      <td>30.0</td>\n",
       "    </tr>\n",
       "    <tr>\n",
       "      <th>Neutral</th>\n",
       "      <td>70779.0</td>\n",
       "      <td>3.272185</td>\n",
       "      <td>3.110194</td>\n",
       "      <td>1.0</td>\n",
       "      <td>1.0</td>\n",
       "      <td>2.0</td>\n",
       "      <td>4.0</td>\n",
       "      <td>28.0</td>\n",
       "    </tr>\n",
       "    <tr>\n",
       "      <th>Positive</th>\n",
       "      <td>29852.0</td>\n",
       "      <td>5.139287</td>\n",
       "      <td>4.211864</td>\n",
       "      <td>1.0</td>\n",
       "      <td>2.0</td>\n",
       "      <td>4.0</td>\n",
       "      <td>7.0</td>\n",
       "      <td>29.0</td>\n",
       "    </tr>\n",
       "    <tr>\n",
       "      <th>Very negative</th>\n",
       "      <td>6730.0</td>\n",
       "      <td>7.252303</td>\n",
       "      <td>4.920132</td>\n",
       "      <td>1.0</td>\n",
       "      <td>3.0</td>\n",
       "      <td>6.0</td>\n",
       "      <td>10.0</td>\n",
       "      <td>30.0</td>\n",
       "    </tr>\n",
       "    <tr>\n",
       "      <th>Very positive</th>\n",
       "      <td>9131.0</td>\n",
       "      <td>6.558646</td>\n",
       "      <td>4.719484</td>\n",
       "      <td>1.0</td>\n",
       "      <td>3.0</td>\n",
       "      <td>5.0</td>\n",
       "      <td>9.0</td>\n",
       "      <td>28.0</td>\n",
       "    </tr>\n",
       "  </tbody>\n",
       "</table>\n",
       "</div>"
      ],
      "text/plain": [
       "                 count      mean       std  min  25%  50%   75%   max\n",
       "label                                                                \n",
       "Negative       25918.0  5.557528  4.366650  1.0  2.0  4.0   8.0  30.0\n",
       "Neutral        70779.0  3.272185  3.110194  1.0  1.0  2.0   4.0  28.0\n",
       "Positive       29852.0  5.139287  4.211864  1.0  2.0  4.0   7.0  29.0\n",
       "Very negative   6730.0  7.252303  4.920132  1.0  3.0  6.0  10.0  30.0\n",
       "Very positive   9131.0  6.558646  4.719484  1.0  3.0  5.0   9.0  28.0"
      ]
     },
     "execution_count": 16,
     "metadata": {},
     "output_type": "execute_result"
    }
   ],
   "source": [
    "df['word_count'] = df['phrase_clean'].apply(lambda x: len(str(x).split()))\n",
    "\n",
    "word_stats = df.groupby('label')['word_count']\n",
    "word_stats.describe()"
   ]
  },
  {
   "cell_type": "code",
   "execution_count": 17,
   "id": "upper-particle",
   "metadata": {
    "scrolled": true
   },
   "outputs": [
    {
     "data": {
      "image/png": "[encoded data removed]",
      "text/plain": [
       "<Figure size 576x288 with 1 Axes>"
      ]
     },
     "metadata": {},
     "output_type": "display_data"
    }
   ],
   "source": [
    "plot_stats(word_stats, xlabel='Sentiment', ylabel='', title='Mean and Median Number of Words per Label')"
   ]
  },
  {
   "cell_type": "markdown",
   "id": "opponent-cardiff",
   "metadata": {},
   "source": [
    "# Punctuation Count"
   ]
  },
  {
   "cell_type": "code",
   "execution_count": 18,
   "id": "wicked-cuisine",
   "metadata": {},
   "outputs": [],
   "source": [
    "df['punct_count'] = df['phrase'].apply(lambda x: len(\"\".join(_ for _ in x if _ in string.punctuation)))"
   ]
  },
  {
   "cell_type": "code",
   "execution_count": 19,
   "id": "light-greeting",
   "metadata": {},
   "outputs": [
    {
     "data": {
      "text/html": [
       "<div>\n",
       "<style scoped>\n",
       "    .dataframe tbody tr th:only-of-type {\n",
       "        vertical-align: middle;\n",
       "    }\n",
       "\n",
       "    .dataframe tbody tr th {\n",
       "        vertical-align: top;\n",
       "    }\n",
       "\n",
       "    .dataframe thead th {\n",
       "        text-align: right;\n",
       "    }\n",
       "</style>\n",
       "<table border=\"1\" class=\"dataframe\">\n",
       "  <thead>\n",
       "    <tr style=\"text-align: right;\">\n",
       "      <th></th>\n",
       "      <th>count</th>\n",
       "      <th>mean</th>\n",
       "      <th>std</th>\n",
       "      <th>min</th>\n",
       "      <th>25%</th>\n",
       "      <th>50%</th>\n",
       "      <th>75%</th>\n",
       "      <th>max</th>\n",
       "    </tr>\n",
       "    <tr>\n",
       "      <th>label</th>\n",
       "      <th></th>\n",
       "      <th></th>\n",
       "      <th></th>\n",
       "      <th></th>\n",
       "      <th></th>\n",
       "      <th></th>\n",
       "      <th></th>\n",
       "      <th></th>\n",
       "    </tr>\n",
       "  </thead>\n",
       "  <tbody>\n",
       "    <tr>\n",
       "      <th>Negative</th>\n",
       "      <td>25918.0</td>\n",
       "      <td>1.354155</td>\n",
       "      <td>1.879191</td>\n",
       "      <td>0.0</td>\n",
       "      <td>0.0</td>\n",
       "      <td>1.0</td>\n",
       "      <td>2.0</td>\n",
       "      <td>21.0</td>\n",
       "    </tr>\n",
       "    <tr>\n",
       "      <th>Neutral</th>\n",
       "      <td>70779.0</td>\n",
       "      <td>0.731658</td>\n",
       "      <td>1.348961</td>\n",
       "      <td>0.0</td>\n",
       "      <td>0.0</td>\n",
       "      <td>0.0</td>\n",
       "      <td>1.0</td>\n",
       "      <td>23.0</td>\n",
       "    </tr>\n",
       "    <tr>\n",
       "      <th>Positive</th>\n",
       "      <td>29852.0</td>\n",
       "      <td>1.169101</td>\n",
       "      <td>1.716892</td>\n",
       "      <td>0.0</td>\n",
       "      <td>0.0</td>\n",
       "      <td>1.0</td>\n",
       "      <td>2.0</td>\n",
       "      <td>17.0</td>\n",
       "    </tr>\n",
       "    <tr>\n",
       "      <th>Very negative</th>\n",
       "      <td>6730.0</td>\n",
       "      <td>1.972808</td>\n",
       "      <td>2.306826</td>\n",
       "      <td>0.0</td>\n",
       "      <td>0.0</td>\n",
       "      <td>1.0</td>\n",
       "      <td>3.0</td>\n",
       "      <td>22.0</td>\n",
       "    </tr>\n",
       "    <tr>\n",
       "      <th>Very positive</th>\n",
       "      <td>9131.0</td>\n",
       "      <td>1.598401</td>\n",
       "      <td>1.983622</td>\n",
       "      <td>0.0</td>\n",
       "      <td>0.0</td>\n",
       "      <td>1.0</td>\n",
       "      <td>2.0</td>\n",
       "      <td>18.0</td>\n",
       "    </tr>\n",
       "  </tbody>\n",
       "</table>\n",
       "</div>"
      ],
      "text/plain": [
       "                 count      mean       std  min  25%  50%  75%   max\n",
       "label                                                               \n",
       "Negative       25918.0  1.354155  1.879191  0.0  0.0  1.0  2.0  21.0\n",
       "Neutral        70779.0  0.731658  1.348961  0.0  0.0  0.0  1.0  23.0\n",
       "Positive       29852.0  1.169101  1.716892  0.0  0.0  1.0  2.0  17.0\n",
       "Very negative   6730.0  1.972808  2.306826  0.0  0.0  1.0  3.0  22.0\n",
       "Very positive   9131.0  1.598401  1.983622  0.0  0.0  1.0  2.0  18.0"
      ]
     },
     "execution_count": 19,
     "metadata": {},
     "output_type": "execute_result"
    }
   ],
   "source": [
    "punct_stats = df.groupby('label')['punct_count']\n",
    "punct_stats.describe()"
   ]
  },
  {
   "cell_type": "code",
   "execution_count": 20,
   "id": "associate-netherlands",
   "metadata": {
    "scrolled": true
   },
   "outputs": [
    {
     "data": {
      "image/png": "[encoded data removed]",
      "text/plain": [
       "<Figure size 576x288 with 1 Axes>"
      ]
     },
     "metadata": {},
     "output_type": "display_data"
    }
   ],
   "source": [
    "plot_stats(punct_stats, xlabel='Sentiment', ylabel='', title='Mean and Median Number of Punctuation per Label')"
   ]
  },
  {
   "cell_type": "markdown",
   "id": "coastal-opposition",
   "metadata": {},
   "source": [
    "- Punctuation occurs more often in in the extreme sentiments.\n",
    "- Could be a good feature to include in classification to discriminate classes from each other."
   ]
  },
  {
   "cell_type": "markdown",
   "id": "mineral-hospital",
   "metadata": {},
   "source": [
    "# Upper case letter count"
   ]
  },
  {
   "cell_type": "code",
   "execution_count": 21,
   "id": "chubby-humanitarian",
   "metadata": {},
   "outputs": [],
   "source": [
    "df['num_caps'] = df['phrase_clean'].apply(lambda x: sum(1 for c in x if c.isupper()))"
   ]
  },
  {
   "cell_type": "code",
   "execution_count": 22,
   "id": "mexican-translation",
   "metadata": {},
   "outputs": [
    {
     "data": {
      "text/html": [
       "<div>\n",
       "<style scoped>\n",
       "    .dataframe tbody tr th:only-of-type {\n",
       "        vertical-align: middle;\n",
       "    }\n",
       "\n",
       "    .dataframe tbody tr th {\n",
       "        vertical-align: top;\n",
       "    }\n",
       "\n",
       "    .dataframe thead th {\n",
       "        text-align: right;\n",
       "    }\n",
       "</style>\n",
       "<table border=\"1\" class=\"dataframe\">\n",
       "  <thead>\n",
       "    <tr style=\"text-align: right;\">\n",
       "      <th></th>\n",
       "      <th>count</th>\n",
       "      <th>mean</th>\n",
       "      <th>std</th>\n",
       "      <th>min</th>\n",
       "      <th>25%</th>\n",
       "      <th>50%</th>\n",
       "      <th>75%</th>\n",
       "      <th>max</th>\n",
       "    </tr>\n",
       "    <tr>\n",
       "      <th>label</th>\n",
       "      <th></th>\n",
       "      <th></th>\n",
       "      <th></th>\n",
       "      <th></th>\n",
       "      <th></th>\n",
       "      <th></th>\n",
       "      <th></th>\n",
       "      <th></th>\n",
       "    </tr>\n",
       "  </thead>\n",
       "  <tbody>\n",
       "    <tr>\n",
       "      <th>Negative</th>\n",
       "      <td>25918.0</td>\n",
       "      <td>1.354155</td>\n",
       "      <td>1.879191</td>\n",
       "      <td>0.0</td>\n",
       "      <td>0.0</td>\n",
       "      <td>1.0</td>\n",
       "      <td>2.0</td>\n",
       "      <td>21.0</td>\n",
       "    </tr>\n",
       "    <tr>\n",
       "      <th>Neutral</th>\n",
       "      <td>70779.0</td>\n",
       "      <td>0.731658</td>\n",
       "      <td>1.348961</td>\n",
       "      <td>0.0</td>\n",
       "      <td>0.0</td>\n",
       "      <td>0.0</td>\n",
       "      <td>1.0</td>\n",
       "      <td>23.0</td>\n",
       "    </tr>\n",
       "    <tr>\n",
       "      <th>Positive</th>\n",
       "      <td>29852.0</td>\n",
       "      <td>1.169101</td>\n",
       "      <td>1.716892</td>\n",
       "      <td>0.0</td>\n",
       "      <td>0.0</td>\n",
       "      <td>1.0</td>\n",
       "      <td>2.0</td>\n",
       "      <td>17.0</td>\n",
       "    </tr>\n",
       "    <tr>\n",
       "      <th>Very negative</th>\n",
       "      <td>6730.0</td>\n",
       "      <td>1.972808</td>\n",
       "      <td>2.306826</td>\n",
       "      <td>0.0</td>\n",
       "      <td>0.0</td>\n",
       "      <td>1.0</td>\n",
       "      <td>3.0</td>\n",
       "      <td>22.0</td>\n",
       "    </tr>\n",
       "    <tr>\n",
       "      <th>Very positive</th>\n",
       "      <td>9131.0</td>\n",
       "      <td>1.598401</td>\n",
       "      <td>1.983622</td>\n",
       "      <td>0.0</td>\n",
       "      <td>0.0</td>\n",
       "      <td>1.0</td>\n",
       "      <td>2.0</td>\n",
       "      <td>18.0</td>\n",
       "    </tr>\n",
       "  </tbody>\n",
       "</table>\n",
       "</div>"
      ],
      "text/plain": [
       "                 count      mean       std  min  25%  50%  75%   max\n",
       "label                                                               \n",
       "Negative       25918.0  1.354155  1.879191  0.0  0.0  1.0  2.0  21.0\n",
       "Neutral        70779.0  0.731658  1.348961  0.0  0.0  0.0  1.0  23.0\n",
       "Positive       29852.0  1.169101  1.716892  0.0  0.0  1.0  2.0  17.0\n",
       "Very negative   6730.0  1.972808  2.306826  0.0  0.0  1.0  3.0  22.0\n",
       "Very positive   9131.0  1.598401  1.983622  0.0  0.0  1.0  2.0  18.0"
      ]
     },
     "execution_count": 22,
     "metadata": {},
     "output_type": "execute_result"
    }
   ],
   "source": [
    "numcap_stats = df.groupby('label')['punct_count']\n",
    "numcap_stats.describe()"
   ]
  },
  {
   "cell_type": "code",
   "execution_count": 23,
   "id": "herbal-belgium",
   "metadata": {},
   "outputs": [
    {
     "data": {
      "image/png": "[encoded data removed]",
      "text/plain": [
       "<Figure size 576x288 with 1 Axes>"
      ]
     },
     "metadata": {},
     "output_type": "display_data"
    }
   ],
   "source": [
    "plot_stats(numcap_stats, xlabel='Sentiment', ylabel='', title='Mean and Median Number of Capital Letters per Label')"
   ]
  },
  {
   "cell_type": "markdown",
   "id": "mechanical-composite",
   "metadata": {},
   "source": [
    "- Capital letters occur more often in in the extreme sentiments.\n",
    "- Could be a good feature to include in classification to discriminate classes from each other, as well."
   ]
  },
  {
   "cell_type": "markdown",
   "id": "bigger-madness",
   "metadata": {},
   "source": [
    "# Density plot of above stats"
   ]
  },
  {
   "cell_type": "code",
   "execution_count": 24,
   "id": "commercial-adelaide",
   "metadata": {
    "scrolled": true
   },
   "outputs": [
    {
     "data": {
      "text/plain": [
       "(-1.0, 20.0)"
      ]
     },
     "execution_count": 24,
     "metadata": {},
     "output_type": "execute_result"
    },
    {
     "data": {
      "image/png": "[encoded data removed]",
      "text/plain": [
       "<Figure size 720x432 with 1 Axes>"
      ]
     },
     "metadata": {},
     "output_type": "display_data"
    }
   ],
   "source": [
    "fig, ax = plt.subplots(nrows=1, ncols=1, figsize=(10, 6))\n",
    "fig.suptitle('KDE of Phrase Length', fontsize=16)\n",
    "\n",
    "labels = df['label'].unique()\n",
    "\n",
    "ax = sns.kdeplot(data=df, x=df['word_count'], \n",
    "                 hue=df['label'], \n",
    "                 shade=True)\n",
    "ax.set_ylim(0, 0.1)\n",
    "ax.set_xlim(-1, 20)\n",
    "\n",
    "#plt.savefig('kde', dpi=300)"
   ]
  },
  {
   "cell_type": "markdown",
   "id": "motivated-johns",
   "metadata": {},
   "source": [
    "# LDA"
   ]
  },
  {
   "cell_type": "code",
   "execution_count": null,
   "id": "operational-solomon",
   "metadata": {},
   "outputs": [],
   "source": [
    "from sklearn.discriminant_analysis import LinearDiscriminantAnalysis"
   ]
  },
  {
   "cell_type": "code",
   "execution_count": null,
   "id": "earlier-batch",
   "metadata": {},
   "outputs": [],
   "source": [
    "train, validate, _ = DataLoader().create_dataframe(preprocess=True, split=True, remove_duplicates=True)"
   ]
  },
  {
   "cell_type": "code",
   "execution_count": null,
   "id": "cultural-medline",
   "metadata": {},
   "outputs": [],
   "source": [
    "train.shape"
   ]
  },
  {
   "cell_type": "code",
   "execution_count": null,
   "id": "danish-friday",
   "metadata": {},
   "outputs": [],
   "source": [
    "X_train, y_train = train['phrase_clean'], train['label_id']\n",
    "X_val, y_val = validate['phrase_clean'], validate['label_id']"
   ]
  },
  {
   "cell_type": "code",
   "execution_count": null,
   "id": "wireless-taste",
   "metadata": {},
   "outputs": [],
   "source": [
    "tfidf_vect = TfidfVectorizer(analyzer='word', \n",
    "                             max_features=10000, \n",
    "                             use_idf=True, \n",
    "                             ngram_range=(1,3))"
   ]
  },
  {
   "cell_type": "code",
   "execution_count": null,
   "id": "ordered-pontiac",
   "metadata": {},
   "outputs": [],
   "source": [
    "vect = tfidf_vect.fit(X_train)\n",
    "X_train_tfidf = vect.transform(X_train)\n",
    "X_val_tfidf = vect.transform(X_val)"
   ]
  },
  {
   "cell_type": "code",
   "execution_count": null,
   "id": "proper-weather",
   "metadata": {},
   "outputs": [],
   "source": [
    "X_train_tfidf.shape"
   ]
  },
  {
   "cell_type": "code",
   "execution_count": null,
   "id": "separate-registration",
   "metadata": {},
   "outputs": [],
   "source": [
    "X_dense = X_train_tfidf.toarray()\n",
    "\n",
    "lda = LinearDiscriminantAnalysis(n_components=None)\n",
    "X_lda = lda.fit(X_dense, y_train)"
   ]
  },
  {
   "cell_type": "code",
   "execution_count": null,
   "id": "defensive-enterprise",
   "metadata": {},
   "outputs": [],
   "source": [
    "lda_var_ratios = lda.explained_variance_ratio_"
   ]
  },
  {
   "cell_type": "code",
   "execution_count": null,
   "id": "rapid-spanking",
   "metadata": {},
   "outputs": [],
   "source": [
    "lda_var_ratios"
   ]
  },
  {
   "cell_type": "code",
   "execution_count": null,
   "id": "advance-floor",
   "metadata": {},
   "outputs": [],
   "source": [
    "lda.explained_variance_ratio_"
   ]
  },
  {
   "cell_type": "code",
   "execution_count": null,
   "id": "compound-notification",
   "metadata": {},
   "outputs": [],
   "source": [
    "select_n_components(lda_var_ratios, 0.95)"
   ]
  },
  {
   "cell_type": "code",
   "execution_count": null,
   "id": "alternate-summit",
   "metadata": {},
   "outputs": [],
   "source": [
    "plt.figure(figsize=(10,6))\n",
    "plt.plot(np.cumsum(lda.explained_variance_ratio_))\n",
    "plt.xlabel('Number of components')\n",
    "plt.ylabel('Cumulative explained variance')\n",
    "plt.title('LDA Cumulative Explained Variance', fontsize=16)\n",
    "plt.savefig('lda', dpi=300)"
   ]
  },
  {
   "cell_type": "code",
   "execution_count": null,
   "id": "lightweight-manchester",
   "metadata": {},
   "outputs": [],
   "source": [
    "lda_2 = LinearDiscriminantAnalysis(n_components=2)\n",
    "X_lda = lda_2.fit(X_dense, y_train).transform(X_dense)"
   ]
  },
  {
   "cell_type": "code",
   "execution_count": null,
   "id": "indian-reset",
   "metadata": {},
   "outputs": [],
   "source": [
    "plt.scatter(X_lda[:, 0], X_lda[:, 1], c=train['label_id'], \n",
    "            edgecolor='none', \n",
    "            alpha=0.25, \n",
    "            cmap=plt.get_cmap('Spectral', 10))\n",
    "\n",
    "plt.colorbar()\n",
    "plt.xlabel('Component 1')\n",
    "plt.ylabel('Component 2')\n",
    "\n",
    "plt.title('2D LDA Plot of TF-IDF input vectors', fontsize=16)\n",
    "plt.savefig('lda-2d', dpi=300)"
   ]
  }
 ],
 "metadata": {
  "kernelspec": {
   "display_name": "Python 3",
   "language": "python",
   "name": "python3"
  },
  "language_info": {
   "codemirror_mode": {
    "name": "ipython",
    "version": 3
   },
   "file_extension": ".py",
   "mimetype": "text/x-python",
   "name": "python",
   "nbconvert_exporter": "python",
   "pygments_lexer": "ipython3",
   "version": "3.7.10"
  }
 },
 "nbformat": 4,
 "nbformat_minor": 5
}
