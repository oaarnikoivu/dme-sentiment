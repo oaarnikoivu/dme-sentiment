{
 "cells": [
  {
   "cell_type": "markdown",
   "id": "broke-snapshot",
   "metadata": {},
   "source": [
    "# Imports"
   ]
  },
  {
   "cell_type": "code",
   "execution_count": 6,
   "id": "medieval-hands",
   "metadata": {},
   "outputs": [],
   "source": [
    "import os\n",
    "import re\n",
    "import sys\n",
    "import string\n",
    "import pytreebank\n",
    "import nltk\n",
    "import pandas as pd\n",
    "import matplotlib.pyplot as plt\n",
    "import umap\n",
    "import umap.plot\n",
    "\n",
    "from stemming.porter2 import stem\n",
    "from nltk.corpus import stopwords\n",
    "from sklearn.feature_extraction.text import TfidfVectorizer, CountVectorizer, TfidfTransformer\n",
    "from sklearn.dummy import DummyClassifier\n",
    "from sklearn.linear_model import LogisticRegression\n",
    "from sklearn.pipeline import Pipeline\n",
    "from sklearn.metrics import accuracy_score, f1_score\n",
    "from sklearn.decomposition import TruncatedSVD\n",
    "\n",
    "plt.style.use('ggplot')"
   ]
  },
  {
   "cell_type": "markdown",
   "id": "operating-pioneer",
   "metadata": {},
   "source": [
    "# Load Data"
   ]
  },
  {
   "cell_type": "code",
   "execution_count": 7,
   "id": "right-pierce",
   "metadata": {},
   "outputs": [],
   "source": [
    "DATA_PATH = os.path.abspath('stanfordSentimentTreebank/')\n",
    "\n",
    "phrases = pd.read_csv(DATA_PATH + '/dictionary.txt', delimiter = \"|\", names=['Phrase', 'Phrase ID1'])\n",
    "labels = pd.read_csv(DATA_PATH + '/sentiment_labels.txt', delimiter = '|')\n",
    "labels.columns = ['Phrase ID2', 'Sentiment Value']\n",
    "\n",
    "sentences = pd.read_csv(DATA_PATH + '/datasetSentences.txt', delimiter = \"\\t\")\n",
    "sentences_split = pd.read_csv(DATA_PATH + '/datasetSplit.txt', delimiter=',')"
   ]
  },
  {
   "cell_type": "code",
   "execution_count": 8,
   "id": "allied-rugby",
   "metadata": {},
   "outputs": [
    {
     "data": {
      "text/html": [
       "<div>\n",
       "<style scoped>\n",
       "    .dataframe tbody tr th:only-of-type {\n",
       "        vertical-align: middle;\n",
       "    }\n",
       "\n",
       "    .dataframe tbody tr th {\n",
       "        vertical-align: top;\n",
       "    }\n",
       "\n",
       "    .dataframe thead th {\n",
       "        text-align: right;\n",
       "    }\n",
       "</style>\n",
       "<table border=\"1\" class=\"dataframe\">\n",
       "  <thead>\n",
       "    <tr style=\"text-align: right;\">\n",
       "      <th></th>\n",
       "      <th>Phrase ID</th>\n",
       "      <th>Phrase</th>\n",
       "      <th>Sentiment Value</th>\n",
       "    </tr>\n",
       "  </thead>\n",
       "  <tbody>\n",
       "    <tr>\n",
       "      <th>0</th>\n",
       "      <td>0</td>\n",
       "      <td>!</td>\n",
       "      <td>0.50000</td>\n",
       "    </tr>\n",
       "    <tr>\n",
       "      <th>1</th>\n",
       "      <td>22935</td>\n",
       "      <td>! '</td>\n",
       "      <td>0.52778</td>\n",
       "    </tr>\n",
       "    <tr>\n",
       "      <th>2</th>\n",
       "      <td>18235</td>\n",
       "      <td>! ''</td>\n",
       "      <td>0.50000</td>\n",
       "    </tr>\n",
       "    <tr>\n",
       "      <th>3</th>\n",
       "      <td>179257</td>\n",
       "      <td>! Alas</td>\n",
       "      <td>0.44444</td>\n",
       "    </tr>\n",
       "    <tr>\n",
       "      <th>4</th>\n",
       "      <td>22936</td>\n",
       "      <td>! Brilliant</td>\n",
       "      <td>0.86111</td>\n",
       "    </tr>\n",
       "  </tbody>\n",
       "</table>\n",
       "</div>"
      ],
      "text/plain": [
       "   Phrase ID       Phrase  Sentiment Value\n",
       "0          0            !          0.50000\n",
       "1      22935          ! '          0.52778\n",
       "2      18235         ! ''          0.50000\n",
       "3     179257       ! Alas          0.44444\n",
       "4      22936  ! Brilliant          0.86111"
      ]
     },
     "execution_count": 8,
     "metadata": {},
     "output_type": "execute_result"
    }
   ],
   "source": [
    "phrase_df = phrases.set_index('Phrase ID1').join(labels.set_index('Phrase ID2'), how='inner')\\\n",
    "    .rename_axis(index='Phrase ID').reset_index()\n",
    "\n",
    "phrase_df.head()"
   ]
  },
  {
   "cell_type": "code",
   "execution_count": 9,
   "id": "regulation-lyric",
   "metadata": {},
   "outputs": [
    {
     "data": {
      "text/html": [
       "<div>\n",
       "<style scoped>\n",
       "    .dataframe tbody tr th:only-of-type {\n",
       "        vertical-align: middle;\n",
       "    }\n",
       "\n",
       "    .dataframe tbody tr th {\n",
       "        vertical-align: top;\n",
       "    }\n",
       "\n",
       "    .dataframe thead th {\n",
       "        text-align: right;\n",
       "    }\n",
       "</style>\n",
       "<table border=\"1\" class=\"dataframe\">\n",
       "  <thead>\n",
       "    <tr style=\"text-align: right;\">\n",
       "      <th></th>\n",
       "      <th>Phrase ID</th>\n",
       "      <th>Phrase</th>\n",
       "      <th>Sentiment Value</th>\n",
       "      <th>Sentiment</th>\n",
       "    </tr>\n",
       "  </thead>\n",
       "  <tbody>\n",
       "    <tr>\n",
       "      <th>0</th>\n",
       "      <td>0</td>\n",
       "      <td>!</td>\n",
       "      <td>0.50000</td>\n",
       "      <td>3.0</td>\n",
       "    </tr>\n",
       "    <tr>\n",
       "      <th>1</th>\n",
       "      <td>22935</td>\n",
       "      <td>! '</td>\n",
       "      <td>0.52778</td>\n",
       "      <td>3.0</td>\n",
       "    </tr>\n",
       "    <tr>\n",
       "      <th>2</th>\n",
       "      <td>18235</td>\n",
       "      <td>! ''</td>\n",
       "      <td>0.50000</td>\n",
       "      <td>3.0</td>\n",
       "    </tr>\n",
       "    <tr>\n",
       "      <th>3</th>\n",
       "      <td>179257</td>\n",
       "      <td>! Alas</td>\n",
       "      <td>0.44444</td>\n",
       "      <td>3.0</td>\n",
       "    </tr>\n",
       "    <tr>\n",
       "      <th>4</th>\n",
       "      <td>22936</td>\n",
       "      <td>! Brilliant</td>\n",
       "      <td>0.86111</td>\n",
       "      <td>5.0</td>\n",
       "    </tr>\n",
       "  </tbody>\n",
       "</table>\n",
       "</div>"
      ],
      "text/plain": [
       "   Phrase ID       Phrase  Sentiment Value  Sentiment\n",
       "0          0            !          0.50000        3.0\n",
       "1      22935          ! '          0.52778        3.0\n",
       "2      18235         ! ''          0.50000        3.0\n",
       "3     179257       ! Alas          0.44444        3.0\n",
       "4      22936  ! Brilliant          0.86111        5.0"
      ]
     },
     "execution_count": 9,
     "metadata": {},
     "output_type": "execute_result"
    }
   ],
   "source": [
    "def label_sentiment(row):\n",
    "  if row['Sentiment Value'] > 0 and row['Sentiment Value'] <= 0.2:\n",
    "    return 1 # Very negative\n",
    "  if row['Sentiment Value'] > 0.2 and row['Sentiment Value'] <= 0.4:\n",
    "    return 2 # negative\n",
    "  if row['Sentiment Value'] > 0.4 and row['Sentiment Value'] <= 0.6:\n",
    "    return 3 # Neutral\n",
    "  if row['Sentiment Value'] > 0.6 and row['Sentiment Value'] <= 0.8:\n",
    "    return 4 # positive\n",
    "  if row['Sentiment Value'] > 0.8 and row['Sentiment Value'] <= 1:\n",
    "    return 5 # Very positive\n",
    "\n",
    "phrase_df['Sentiment'] = phrase_df.apply(lambda row: label_sentiment(row), axis=1)\n",
    "phrase_df = phrase_df.dropna()\n",
    "phrase_df.head()"
   ]
  },
  {
   "cell_type": "code",
   "execution_count": 10,
   "id": "graphic-activity",
   "metadata": {},
   "outputs": [],
   "source": [
    "out_path = os.path.join(sys.path[0], 'sst_{}.txt')\n",
    "dataset = pytreebank.load_sst('./raw_data')\n",
    "\n",
    "for category in ['train', 'test', 'dev']:\n",
    "    with open(out_path.format(category), 'w') as outfile:\n",
    "        for item in dataset[category]:\n",
    "            outfile.write(\"__label__{}\\t{}\\n\".format(\n",
    "                item.to_labeled_lines()[0][0] + 1,\n",
    "                item.to_labeled_lines()[0][1]\n",
    "            ))"
   ]
  },
  {
   "cell_type": "code",
   "execution_count": 11,
   "id": "developing-imagination",
   "metadata": {},
   "outputs": [],
   "source": [
    "def read_data(dataset):\n",
    "    df = pd.read_csv('sst_'+dataset+'.txt', sep='\\t', header=None, names=['Label', 'Sentence'])\n",
    "    df['Label'] = df['Label'].str.replace('__label__', '')\n",
    "    df['Label'] = df['Label'].astype(int).astype('category')\n",
    "    return df\n",
    "\n",
    "\n",
    "train_sent_df = read_data('train')\n",
    "test_sent_df = read_data('test')\n",
    "dev_sent_df = read_data('dev')"
   ]
  },
  {
   "cell_type": "markdown",
   "id": "ready-disabled",
   "metadata": {},
   "source": [
    "# Preprocessing "
   ]
  },
  {
   "cell_type": "code",
   "execution_count": 12,
   "id": "military-insulin",
   "metadata": {},
   "outputs": [],
   "source": [
    "def preprocess(text):\n",
    "    text = text.lower()\n",
    "    text = re.sub(\"[^a-zA-Z]\", \" \", text)\n",
    "    token = nltk.word_tokenize(text)\n",
    "    text = [nltk.stem.SnowballStemmer('english').stem(w) for w in token]\n",
    "    text = [word.strip() for word in text]\n",
    "    return \" \".join(text)\n",
    "\n",
    "phrase_df['Phrase clean'] = phrase_df['Phrase'].apply(preprocess)\n",
    "train_sent_df['Sentence clean'] = train_sent_df['Sentence'].apply(preprocess)\n",
    "test_sent_df['Sentence clean'] = test_sent_df['Sentence'].apply(preprocess)\n",
    "dev_sent_df['Sentence clean'] = dev_sent_df['Sentence'].apply(preprocess)"
   ]
  },
  {
   "cell_type": "code",
   "execution_count": 13,
   "id": "unknown-albuquerque",
   "metadata": {},
   "outputs": [
    {
     "data": {
      "text/html": [
       "<div>\n",
       "<style scoped>\n",
       "    .dataframe tbody tr th:only-of-type {\n",
       "        vertical-align: middle;\n",
       "    }\n",
       "\n",
       "    .dataframe tbody tr th {\n",
       "        vertical-align: top;\n",
       "    }\n",
       "\n",
       "    .dataframe thead th {\n",
       "        text-align: right;\n",
       "    }\n",
       "</style>\n",
       "<table border=\"1\" class=\"dataframe\">\n",
       "  <thead>\n",
       "    <tr style=\"text-align: right;\">\n",
       "      <th></th>\n",
       "      <th>Phrase ID</th>\n",
       "      <th>Phrase</th>\n",
       "      <th>Sentiment Value</th>\n",
       "      <th>Sentiment</th>\n",
       "      <th>Phrase clean</th>\n",
       "    </tr>\n",
       "  </thead>\n",
       "  <tbody>\n",
       "    <tr>\n",
       "      <th>0</th>\n",
       "      <td>0</td>\n",
       "      <td>!</td>\n",
       "      <td>0.50000</td>\n",
       "      <td>3.0</td>\n",
       "      <td></td>\n",
       "    </tr>\n",
       "    <tr>\n",
       "      <th>1</th>\n",
       "      <td>22935</td>\n",
       "      <td>! '</td>\n",
       "      <td>0.52778</td>\n",
       "      <td>3.0</td>\n",
       "      <td></td>\n",
       "    </tr>\n",
       "    <tr>\n",
       "      <th>2</th>\n",
       "      <td>18235</td>\n",
       "      <td>! ''</td>\n",
       "      <td>0.50000</td>\n",
       "      <td>3.0</td>\n",
       "      <td></td>\n",
       "    </tr>\n",
       "    <tr>\n",
       "      <th>3</th>\n",
       "      <td>179257</td>\n",
       "      <td>! Alas</td>\n",
       "      <td>0.44444</td>\n",
       "      <td>3.0</td>\n",
       "      <td>ala</td>\n",
       "    </tr>\n",
       "    <tr>\n",
       "      <th>4</th>\n",
       "      <td>22936</td>\n",
       "      <td>! Brilliant</td>\n",
       "      <td>0.86111</td>\n",
       "      <td>5.0</td>\n",
       "      <td>brilliant</td>\n",
       "    </tr>\n",
       "  </tbody>\n",
       "</table>\n",
       "</div>"
      ],
      "text/plain": [
       "   Phrase ID       Phrase  Sentiment Value  Sentiment Phrase clean\n",
       "0          0            !          0.50000        3.0             \n",
       "1      22935          ! '          0.52778        3.0             \n",
       "2      18235         ! ''          0.50000        3.0             \n",
       "3     179257       ! Alas          0.44444        3.0          ala\n",
       "4      22936  ! Brilliant          0.86111        5.0    brilliant"
      ]
     },
     "execution_count": 13,
     "metadata": {},
     "output_type": "execute_result"
    }
   ],
   "source": [
    "phrase_df.head()"
   ]
  },
  {
   "cell_type": "code",
   "execution_count": 14,
   "id": "frank-enlargement",
   "metadata": {},
   "outputs": [],
   "source": [
    "filter = phrase_df['Phrase clean'] != \"\"\n",
    "phrase_df = phrase_df[filter]"
   ]
  },
  {
   "cell_type": "code",
   "execution_count": 15,
   "id": "attached-interface",
   "metadata": {},
   "outputs": [],
   "source": [
    "train_phrases, train_labels = phrase_df['Phrase clean'], phrase_df['Sentiment']"
   ]
  },
  {
   "cell_type": "markdown",
   "id": "straight-rabbit",
   "metadata": {},
   "source": [
    "# Exploratory Data Analysis\n",
    "\n",
    "- Classes are imbalanced.\n",
    "- Majority of phrases are labelled as \"neutral\".\n",
    "- Positvies and negatives are fairly balanced."
   ]
  },
  {
   "cell_type": "code",
   "execution_count": 16,
   "id": "amateur-amateur",
   "metadata": {},
   "outputs": [
    {
     "data": {
      "text/plain": [
       "Text(0.5, 1.0, 'Sentiment class balance')"
      ]
     },
     "execution_count": 16,
     "metadata": {},
     "output_type": "execute_result"
    },
    {
     "data": {
      "image/png": "[encoded data removed]",
      "text/plain": [
       "<Figure size 432x288 with 1 Axes>"
      ]
     },
     "metadata": {},
     "output_type": "display_data"
    }
   ],
   "source": [
    "ax = phrase_df['Sentiment'].value_counts().plot(kind='bar')\n",
    "ax.set_xlabel('Sentiment')\n",
    "ax.set_ylabel('Frequency')\n",
    "ax.set_title('Sentiment class balance')"
   ]
  },
  {
   "cell_type": "markdown",
   "id": "optical-package",
   "metadata": {},
   "source": [
    "## Dimensionality reduction\n",
    "\n",
    "- No clear separation between phrases\n",
    "- Will be difficult to categorize\n",
    "- Text data is noisy. Perhaps reducing the number of labels -> Negative, Neutral, Positive?"
   ]
  },
  {
   "cell_type": "markdown",
   "id": "champion-wireless",
   "metadata": {},
   "source": [
    "### Truncated SVD"
   ]
  },
  {
   "cell_type": "code",
   "execution_count": 17,
   "id": "listed-sessions",
   "metadata": {},
   "outputs": [],
   "source": [
    "vectorizer = TfidfVectorizer(ngram_range=(1,2), sublinear_tf=True)\n",
    "X_tfidf = vectorizer.fit_transform(train_phrases)"
   ]
  },
  {
   "cell_type": "code",
   "execution_count": 18,
   "id": "forced-ocean",
   "metadata": {},
   "outputs": [],
   "source": [
    "svd = TruncatedSVD(n_components=2, random_state=42)\n",
    "X_svd = svd.fit_transform(X_tfidf)"
   ]
  },
  {
   "cell_type": "code",
   "execution_count": 19,
   "id": "surprised-sampling",
   "metadata": {},
   "outputs": [
    {
     "data": {
      "text/plain": [
       "<matplotlib.colorbar.Colorbar at 0x7fd793baa610>"
      ]
     },
     "execution_count": 19,
     "metadata": {},
     "output_type": "execute_result"
    },
    {
     "data": {
      "image/png": "[encoded data removed]",
      "text/plain": [
       "<Figure size 432x288 with 2 Axes>"
      ]
     },
     "metadata": {},
     "output_type": "display_data"
    }
   ],
   "source": [
    "plt.scatter(X_svd[:, 0], X_svd[:, 1], \n",
    "            c=train_labels, \n",
    "            edgecolor='none', \n",
    "            alpha=0.5, \n",
    "            cmap=plt.cm.get_cmap('cubehelix', 10))\n",
    "plt.colorbar()"
   ]
  },
  {
   "cell_type": "code",
   "execution_count": null,
   "id": "reduced-quantity",
   "metadata": {},
   "outputs": [],
   "source": [
    "train_phrases.head()"
   ]
  },
  {
   "cell_type": "markdown",
   "id": "informed-editor",
   "metadata": {},
   "source": [
    "# Supervised prediction"
   ]
  },
  {
   "cell_type": "markdown",
   "id": "consecutive-spider",
   "metadata": {},
   "source": [
    "## Dummy classifier"
   ]
  },
  {
   "cell_type": "code",
   "execution_count": null,
   "id": "whole-nomination",
   "metadata": {},
   "outputs": [],
   "source": [
    "def dummy_pipeline(train, labels, dummy_strategy):\n",
    "    clf = DummyClassifier(strategy=dummy_strategy)\n",
    "    pipeline = Pipeline([\n",
    "        ('vect', TfidfVectorizer(ngram_range=(1,3), sublinear_tf = True)),\n",
    "        ('clf', LogisticRegression(solver='liblinear', multi_class='auto'))\n",
    "    ])\n",
    "    pipeline.fit(train, labels)\n",
    "    return pipeline"
   ]
  },
  {
   "cell_type": "code",
   "execution_count": null,
   "id": "brief-framework",
   "metadata": {},
   "outputs": [],
   "source": [
    "dummy_pipe_mf = dummy_pipeline(train_phrases, train_labels, 'most_frequent')\n",
    "dev_sent_df['Dummy pred - mf'] = dummy_pipe_mf.predict(dev_sent_df['Sentence clean']).astype(int)"
   ]
  },
  {
   "cell_type": "code",
   "execution_count": null,
   "id": "accompanied-prime",
   "metadata": {},
   "outputs": [],
   "source": [
    "dummy_pipe_strat = dummy_pipeline(train_phrases, train_labels, 'stratified')\n",
    "dev_sent_df['Dummy pred - strat'] = dummy_pipe_strat.predict(dev_sent_df['Sentence clean']).astype(int)"
   ]
  },
  {
   "cell_type": "code",
   "execution_count": null,
   "id": "subsequent-trade",
   "metadata": {},
   "outputs": [],
   "source": [
    "dev_sent_df.head()"
   ]
  },
  {
   "cell_type": "code",
   "execution_count": null,
   "id": "dutch-helping",
   "metadata": {},
   "outputs": [],
   "source": [
    "print(\"Classification accuracy on the validation set: \")\n",
    "print(f\"'Most frequent' dummy classifier: {accuracy_score(dev_sent_df['Label'], dev_sent_df['Dummy pred - mf']):.3f}\")\n",
    "print(f\"'Stratified' dummy classifier: {accuracy_score(dev_sent_df['Label'], dev_sent_df['Dummy pred - strat']):.3f}\")"
   ]
  },
  {
   "cell_type": "code",
   "execution_count": null,
   "id": "endless-inspector",
   "metadata": {},
   "outputs": [],
   "source": []
  }
 ],
 "metadata": {
  "kernelspec": {
   "display_name": "Python 3",
   "language": "python",
   "name": "python3"
  },
  "language_info": {
   "codemirror_mode": {
    "name": "ipython",
    "version": 3
   },
   "file_extension": ".py",
   "mimetype": "text/x-python",
   "name": "python",
   "nbconvert_exporter": "python",
   "pygments_lexer": "ipython3",
   "version": "3.7.10"
  }
 },
 "nbformat": 4,
 "nbformat_minor": 5
}
