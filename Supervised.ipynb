{
 "cells": [
  {
   "cell_type": "markdown",
   "id": "acoustic-listing",
   "metadata": {},
   "source": [
    "# Imports"
   ]
  },
  {
   "cell_type": "code",
   "execution_count": 1,
   "id": "valuable-print",
   "metadata": {
    "scrolled": true
   },
   "outputs": [
    {
     "name": "stderr",
     "output_type": "stream",
     "text": [
      "[nltk_data] Downloading package stopwords to\n",
      "[nltk_data]     /afs/inf.ed.ac.uk/user/s21/s2125219/nltk_data...\n",
      "[nltk_data]   Package stopwords is already up-to-date!\n"
     ]
    }
   ],
   "source": [
    "import string\n",
    "import pandas as pd\n",
    "import numpy as np\n",
    "\n",
    "from preprocessing import Preprocessor\n",
    "from data_loader import DataLoader\n",
    "from helpers import select_n_components\n",
    "from textblob import TextBlob\n",
    "from tqdm import tqdm\n",
    "\n",
    "from sklearn.feature_extraction.text import TfidfVectorizer, CountVectorizer, TfidfTransformer\n",
    "from sklearn.model_selection import train_test_split\n",
    "from sklearn.dummy import DummyClassifier\n",
    "from sklearn.linear_model import LogisticRegression\n",
    "from sklearn.svm import SVC\n",
    "from sklearn.naive_bayes import GaussianNB\n",
    "from sklearn.neighbors import KNeighborsClassifier\n",
    "from sklearn.ensemble import RandomForestClassifier\n",
    "from sklearn.neural_network import MLPClassifier\n",
    "from sklearn.pipeline import Pipeline, FeatureUnion, make_pipeline\n",
    "from sklearn.metrics import accuracy_score, f1_score\n",
    "from sklearn.decomposition import TruncatedSVD\n",
    "from sklearn.preprocessing import Normalizer, FunctionTransformer\n",
    "from sklearn.base import BaseEstimator"
   ]
  },
  {
   "cell_type": "markdown",
   "id": "rural-lawsuit",
   "metadata": {},
   "source": [
    "# Load Data"
   ]
  },
  {
   "cell_type": "code",
   "execution_count": 2,
   "id": "conventional-shuttle",
   "metadata": {},
   "outputs": [
    {
     "name": "stderr",
     "output_type": "stream",
     "text": [
      "100%|██████████| 239073/239073 [00:39<00:00, 6077.16it/s]\n"
     ]
    },
    {
     "data": {
      "text/html": [
       "<div>\n",
       "<style scoped>\n",
       "    .dataframe tbody tr th:only-of-type {\n",
       "        vertical-align: middle;\n",
       "    }\n",
       "\n",
       "    .dataframe tbody tr th {\n",
       "        vertical-align: top;\n",
       "    }\n",
       "\n",
       "    .dataframe thead th {\n",
       "        text-align: right;\n",
       "    }\n",
       "</style>\n",
       "<table border=\"1\" class=\"dataframe\">\n",
       "  <thead>\n",
       "    <tr style=\"text-align: right;\">\n",
       "      <th></th>\n",
       "      <th>phrase_id</th>\n",
       "      <th>phrase</th>\n",
       "      <th>phrase_clean</th>\n",
       "      <th>sentiment_val</th>\n",
       "      <th>label_id</th>\n",
       "      <th>label</th>\n",
       "    </tr>\n",
       "  </thead>\n",
       "  <tbody>\n",
       "    <tr>\n",
       "      <th>22288</th>\n",
       "      <td>222703</td>\n",
       "      <td>Build some robots , haul 'em to the theatre wi...</td>\n",
       "      <td>build robot haul em theatr late show put myste...</td>\n",
       "      <td>0.083333</td>\n",
       "      <td>1.0</td>\n",
       "      <td>Very negative</td>\n",
       "    </tr>\n",
       "    <tr>\n",
       "      <th>223370</th>\n",
       "      <td>98617</td>\n",
       "      <td>town regret , love , duty and friendship</td>\n",
       "      <td>town regret love duti friendship</td>\n",
       "      <td>0.500000</td>\n",
       "      <td>3.0</td>\n",
       "      <td>Neutral</td>\n",
       "    </tr>\n",
       "    <tr>\n",
       "      <th>53708</th>\n",
       "      <td>110101</td>\n",
       "      <td>The problem is the needlessly poor quality of ...</td>\n",
       "      <td>the problem needlessli poor qualiti archiv pri...</td>\n",
       "      <td>0.222220</td>\n",
       "      <td>2.0</td>\n",
       "      <td>Negative</td>\n",
       "    </tr>\n",
       "    <tr>\n",
       "      <th>13444</th>\n",
       "      <td>103397</td>\n",
       "      <td>A Better Tomorrow</td>\n",
       "      <td>A better tomorrow</td>\n",
       "      <td>0.555560</td>\n",
       "      <td>3.0</td>\n",
       "      <td>Neutral</td>\n",
       "    </tr>\n",
       "    <tr>\n",
       "      <th>108176</th>\n",
       "      <td>197881</td>\n",
       "      <td>energy and passion</td>\n",
       "      <td>energi passion</td>\n",
       "      <td>0.569440</td>\n",
       "      <td>3.0</td>\n",
       "      <td>Neutral</td>\n",
       "    </tr>\n",
       "  </tbody>\n",
       "</table>\n",
       "</div>"
      ],
      "text/plain": [
       "        phrase_id                                             phrase  \\\n",
       "22288      222703  Build some robots , haul 'em to the theatre wi...   \n",
       "223370      98617           town regret , love , duty and friendship   \n",
       "53708      110101  The problem is the needlessly poor quality of ...   \n",
       "13444      103397                                  A Better Tomorrow   \n",
       "108176     197881                                 energy and passion   \n",
       "\n",
       "                                             phrase_clean  sentiment_val  \\\n",
       "22288   build robot haul em theatr late show put myste...       0.083333   \n",
       "223370                   town regret love duti friendship       0.500000   \n",
       "53708   the problem needlessli poor qualiti archiv pri...       0.222220   \n",
       "13444                                   A better tomorrow       0.555560   \n",
       "108176                                     energi passion       0.569440   \n",
       "\n",
       "        label_id          label  \n",
       "22288        1.0  Very negative  \n",
       "223370       3.0        Neutral  \n",
       "53708        2.0       Negative  \n",
       "13444        3.0        Neutral  \n",
       "108176       3.0        Neutral  "
      ]
     },
     "execution_count": 2,
     "metadata": {},
     "output_type": "execute_result"
    }
   ],
   "source": [
    "df = DataLoader().create_dataframe(remove_duplicates=True, preprocess=True)\n",
    "df.head()"
   ]
  },
  {
   "cell_type": "markdown",
   "id": "super-speed",
   "metadata": {},
   "source": [
    "# Train, dev and test split"
   ]
  },
  {
   "cell_type": "code",
   "execution_count": 3,
   "id": "maritime-black",
   "metadata": {},
   "outputs": [],
   "source": [
    "X_train, X_test, y_train, y_test = train_test_split(df['phrase_clean'], \n",
    "                                                    df['label_id'], \n",
    "                                                    test_size=0.2, random_state=42)\n",
    "\n",
    "X_train, X_val, y_train, y_val = train_test_split(X_train, \n",
    "                                                  y_train, \n",
    "                                                  test_size=0.25, \n",
    "                                                  random_state=42)"
   ]
  },
  {
   "cell_type": "markdown",
   "id": "necessary-settlement",
   "metadata": {},
   "source": [
    "# Feature Engineering"
   ]
  },
  {
   "cell_type": "code",
   "execution_count": 4,
   "id": "moving-apartment",
   "metadata": {},
   "outputs": [],
   "source": [
    "adj = ['JJ', 'JJR', 'JJS']\n",
    "\n",
    "def pos_check(x):\n",
    "    count = 0\n",
    "    try:\n",
    "        wiki = TextBlob(x)\n",
    "        for tup in wiki.tags:\n",
    "            ppo = list(tup)[1]\n",
    "            if ppo in adj:\n",
    "                count += 1\n",
    "    except:\n",
    "        pass\n",
    "    return count\n",
    "\n",
    "punct_count = lambda l1, l2: sum([1 for x in l1 if x in l2])\n",
    "caps_count = lambda l1: sum([1 for x in l1 if x.isupper()])\n",
    "\n",
    "# Phrase length \n",
    "def get_phrase_length(x):\n",
    "    return np.array([len(t) for t in x]).reshape(-1, 1)\n",
    "\n",
    "# Punctuation counnt\n",
    "def get_num_punct(X):\n",
    "    return np.array([punct_count(x, set(string.punctuation)) for x in X]).reshape(-1, 1)\n",
    "\n",
    "# Number of capital letters\n",
    "def get_num_caps(X):\n",
    "    return np.array([caps_count(x) for x in X]).reshape(-1, 1)\n",
    "\n",
    "# Number of ADJ POS tags \n",
    "def get_adj_count(X):\n",
    "    return np.array([pos_check(x) for x in X]).reshape(-1, 1)"
   ]
  },
  {
   "cell_type": "markdown",
   "id": "lasting-water",
   "metadata": {},
   "source": [
    "# Prediction using train, test and dev split"
   ]
  },
  {
   "cell_type": "code",
   "execution_count": 6,
   "id": "aquatic-timer",
   "metadata": {},
   "outputs": [],
   "source": [
    "def create_pipeline(classifier):\n",
    "    clf = Pipeline([\n",
    "        ('features', FeatureUnion([\n",
    "            ('text', Pipeline([\n",
    "                ('vectorizer', TfidfVectorizer(analyzer='word', max_features=10000, use_idf=True, ngram_range=(1,4)))\n",
    "            ])),\n",
    "            ('punct', Pipeline([\n",
    "                ('count', FunctionTransformer(get_num_punct, validate=False))\n",
    "            ])),\n",
    "            ('caps', Pipeline([\n",
    "                ('count', FunctionTransformer(get_num_caps, validate=False))\n",
    "            ])),\n",
    "#             ('adj', Pipeline([\n",
    "#                 ('count', FunctionTransformer(get_adj_count, validate=False))\n",
    "#             ]))\n",
    "        ])),\n",
    "        ('clf', classifier)\n",
    "    ])\n",
    "    return clf\n",
    "\n",
    "classifiers = {\n",
    "    'Dummy, most frequent': create_pipeline(classifier=DummyClassifier(strategy='most_frequent')),\n",
    "    'Nearest Neighb (10)': create_pipeline(classifier=KNeighborsClassifier(n_neighbors=10)),\n",
    "    'Nearest Neighb (5)': create_pipeline(classifier=KNeighborsClassifier(n_neighbors=5)),\n",
    "    'Logistic Ression': create_pipeline(classifier=LogisticRegression(max_iter=5000)),\n",
    "    'Linear SVM': create_pipeline(classifier=SVC(kernel='linear')),\n",
    "    'RBF SVM': create_pipeline(classifier=SVC(kernel='rbf')),\n",
    "    'Random Forest': create_pipeline(classifier=RandomForestClassifier(max_depth=10, n_estimators=50)),\n",
    "    'MLP': create_pipeline(classifier=MLPClassifier(max_iter=800)),\n",
    "    'MLP stronger reg': create_pipeline(classifier=MLPClassifier(max_iter=800, alpha=1))\n",
    "}"
   ]
  },
  {
   "cell_type": "code",
   "execution_count": null,
   "id": "favorite-groove",
   "metadata": {
    "scrolled": true
   },
   "outputs": [
    {
     "name": "stderr",
     "output_type": "stream",
     "text": [
      " 44%|████▍     | 4/9 [05:48<07:09, 85.99s/it] "
     ]
    }
   ],
   "source": [
    "ca_train_score = {}\n",
    "ca_val_score = {}\n",
    "\n",
    "for name, clf in tqdm(classifiers.items()):\n",
    "    clf.fit(X_train, y_train)\n",
    "    \n",
    "    train_preds = clf.predict(X_train)\n",
    "    val_preds = clf.predict(X_val)\n",
    "    \n",
    "    ca_train_score[name] = f1_score(train_preds, y_train, average='weighted')\n",
    "    ca_val_score[name] = f1_score(val_preds, y_val, average='weighted')"
   ]
  },
  {
   "cell_type": "code",
   "execution_count": null,
   "id": "foreign-seeker",
   "metadata": {},
   "outputs": [],
   "source": [
    "print('Classification performance on validation set: \\n')\n",
    "\n",
    "print('Validation (LHS), Training (RHS)')\n",
    "print()\n",
    "for name, clf in classifiers.items():\n",
    "    print (\"{method:<20s}{val_f1:>13.3f}{train_f1:>13.3f}\".format(\n",
    "        method=name, val_f1=ca_val_score[name],\n",
    "        train_f1=ca_train_score[name]))"
   ]
  },
  {
   "cell_type": "code",
   "execution_count": null,
   "id": "roman-enemy",
   "metadata": {},
   "outputs": [],
   "source": []
  },
  {
   "cell_type": "code",
   "execution_count": null,
   "id": "linear-joseph",
   "metadata": {},
   "outputs": [],
   "source": []
  },
  {
   "cell_type": "code",
   "execution_count": null,
   "id": "subjective-telephone",
   "metadata": {},
   "outputs": [],
   "source": []
  },
  {
   "cell_type": "markdown",
   "id": "rapid-lover",
   "metadata": {},
   "source": [
    "# Unsupervised Clustering\n",
    "- Ignore this for now.\n",
    "\n",
    "- KMeans does not work well on high-dimensional data, better to reduce dimensionality of data first, and then do KMeans on reduced space: https://stats.stackexchange.com/questions/199501/user-segmentation-by-clustering-with-sparse-data"
   ]
  },
  {
   "cell_type": "code",
   "execution_count": 46,
   "id": "fuzzy-better",
   "metadata": {},
   "outputs": [],
   "source": [
    "from sklearn import metrics"
   ]
  },
  {
   "cell_type": "code",
   "execution_count": 62,
   "id": "native-integer",
   "metadata": {},
   "outputs": [],
   "source": [
    "phrases, labels = phrase_df['phrase_clean'], phrase_df['label_id']"
   ]
  },
  {
   "cell_type": "code",
   "execution_count": 63,
   "id": "pediatric-devil",
   "metadata": {},
   "outputs": [],
   "source": [
    "k_labels = phrase_df['label_id'].values.tolist()\n",
    "true_k = np.unique(k_labels).shape[0]"
   ]
  },
  {
   "cell_type": "code",
   "execution_count": 109,
   "id": "orange-authority",
   "metadata": {},
   "outputs": [],
   "source": [
    "vectorizer = TfidfVectorizer(analyzer='word', \n",
    "                             max_features=100,\n",
    "                             use_idf=True, \n",
    "                             ngram_range=(1,1))\n",
    "\n",
    "X = vectorizer.fit_transform(phrase_df['phrase_clean'])"
   ]
  },
  {
   "cell_type": "code",
   "execution_count": 110,
   "id": "polish-quick",
   "metadata": {},
   "outputs": [],
   "source": [
    "# svd = TruncatedSVD(n_components=500)\n",
    "# normalizer = Normalizer(copy=False)\n",
    "# lsa = make_pipeline(svd, normalizer)\n",
    "# X = lsa.fit_transform(X_vect)\n",
    "\n",
    "# print(svd.explained_variance_ratio_.sum())"
   ]
  },
  {
   "cell_type": "code",
   "execution_count": 111,
   "id": "turned-possession",
   "metadata": {},
   "outputs": [
    {
     "data": {
      "image/png": "[encoded data removed]",
      "text/plain": [
       "<Figure size 432x288 with 1 Axes>"
      ]
     },
     "metadata": {
      "needs_background": "light"
     },
     "output_type": "display_data"
    }
   ],
   "source": [
    "# Elbow method for finding optimal number of clusters\n",
    "wcss = []\n",
    "\n",
    "for i in range(1, 11):\n",
    "    kmeans = KMeans(n_clusters=i, init='k-means++', n_init=1, max_iter=100, random_state=42)\n",
    "    kmeans.fit(X)\n",
    "    wcss.append(kmeans.inertia_)\n",
    "    \n",
    "plt.plot(range(1,11), wcss)\n",
    "plt.title('Elbow Method')\n",
    "plt.xlabel('Number of Clusters')\n",
    "plt.ylabel('wcss')\n",
    "plt.show()"
   ]
  },
  {
   "cell_type": "code",
   "execution_count": 114,
   "id": "rapid-engagement",
   "metadata": {},
   "outputs": [
    {
     "name": "stdout",
     "output_type": "stream",
     "text": [
      "Homogeneity: 0.006\n",
      "Completeness: 0.016\n",
      "V-measure: 0.009\n",
      "Adjusted Rand-Index: 0.354\n",
      "Silhouette Coefficient: 0.326\n"
     ]
    },
    {
     "name": "stderr",
     "output_type": "stream",
     "text": [
      "/afs/inf.ed.ac.uk/user/s21/s2125219/miniconda3/envs/dme/lib/python3.7/site-packages/sklearn/metrics/cluster/_supervised.py:389: RuntimeWarning: overflow encountered in long_scalars\n",
      "  return 2. * (tp * tn - fn * fp) / ((tp + fn) * (fn + tn) +\n",
      "/afs/inf.ed.ac.uk/user/s21/s2125219/miniconda3/envs/dme/lib/python3.7/site-packages/sklearn/metrics/cluster/_supervised.py:390: RuntimeWarning: overflow encountered in long_scalars\n",
      "  (tp + fp) * (fp + tn))\n"
     ]
    }
   ],
   "source": [
    "km = KMeans(n_clusters=6, init='k-means++', max_iter=100, n_init=1)\n",
    "km.fit(X)\n",
    "\n",
    "print(\"Homogeneity: %0.3f\" % metrics.homogeneity_score(labels, km.labels_))\n",
    "print(\"Completeness: %0.3f\" % metrics.completeness_score(labels, km.labels_))\n",
    "print(\"V-measure: %0.3f\" % metrics.v_measure_score(labels, km.labels_))\n",
    "print(\"Adjusted Rand-Index: %.3f\"\n",
    "      % metrics.adjusted_rand_score(labels, km.labels_))\n",
    "print(\"Silhouette Coefficient: %0.3f\"\n",
    "      % metrics.silhouette_score(X, km.labels_, sample_size=1000))"
   ]
  },
  {
   "cell_type": "code",
   "execution_count": 115,
   "id": "later-visitor",
   "metadata": {},
   "outputs": [
    {
     "name": "stdout",
     "output_type": "stream",
     "text": [
      "Cluster 0:  movi one charact stori make comedi perform even good work much director life littl well way funni get enough look us new plot come action audienc act entertain bad emot interest thing year two take feel end see self watch old best drama go never humor someth world would peopl live seem cast heart mani scene direct minut made everi give filmmak sens pictur star actor screen big long man could american may without play fun better hollywood still show origin anoth famili less great realli power first real noth enjoy ever tri kind find film like time love human\n",
      "\n",
      "Cluster 1:  time movi good first film one long minut like mani much take well feel stori get director watch work make way everi seem screen come look big interest even real two great us give go charact could act old realli better plot littl direct live enjoy anoth funni emot life see end peopl still kind drama year someth sens audienc power action show less bad would cast tri actor filmmak play entertain find new thing heart noth never best origin may made enough comedi hollywood scene pictur man ever without star self perform humor fun american world famili love human\n",
      "\n",
      "Cluster 2:  human charact film life world emot find littl like one humor us feel much stori long movi comedi live good make drama could give power funni show take real everi time still audienc heart act peopl screen hollywood way watch made great new end enough even realli never ever get self may love play perform kind american action man sens two pictur interest look come seem actor big thing well someth director less better plot would star year work without origin tri mani best direct go minut famili see bad anoth old cast enjoy entertain filmmak first noth scene fun\n",
      "\n",
      "Cluster 3:  love stori film movi like one peopl made way life littl much famili well power first us even come charact new big make time find may great bad good old realli perform never go see two work drama american entertain origin feel could comedi end interest better emot look audienc ever long world pictur live would take self real director tri year humor kind get star screen fun give cast best enjoy funni mani play less thing still someth scene seem without noth actor minut act direct action enough plot show anoth heart sens filmmak watch everi hollywood man human\n",
      "\n",
      "Cluster 4:  film make one best perform director come charact well first littl good action work stori year way made emot much new even movi everi comedi seem take funni never two end better life american famili minut enough could mani power may look heart entertain kind see would watch thing give feel someth live bad world plot get direct audienc enjoy realli great tri sens man go ever cast less anoth fun us interest peopl find humor play star without still scene long hollywood noth act drama self real actor big old show origin filmmak pictur screen like time human love\n",
      "\n",
      "Cluster 5:  like feel movi film look much play make one seem someth old go new life bad would watch get work stori long end american minut year charact way without see even come big thing real less still mani noth audienc made good fun could well enough screen enjoy entertain tri act two famili littl world never origin anoth action us may great peopl first show humor find everi emot pictur heart filmmak kind better comedi interest star best take drama ever hollywood live plot director actor self man direct cast give realli power perform scene funni time sens love human\n",
      "\n"
     ]
    }
   ],
   "source": [
    "# original_space_centroids = svd.inverse_transform(km.cluster_centers_)\n",
    "# order_centroids = original_space_centroids.argsort()[:, ::-1]\n",
    "\n",
    "order_centroids = km.cluster_centers_.argsort()[:, ::-1]\n",
    "\n",
    "terms = vectorizer.get_feature_names()\n",
    "\n",
    "for i in range(6):\n",
    "    print(\"Cluster %d: \" % i, end='')\n",
    "    for idx in order_centroids[i, :200]:\n",
    "        print(' %s' % terms[idx], end='')\n",
    "    print('\\n')"
   ]
  },
  {
   "cell_type": "code",
   "execution_count": null,
   "id": "hazardous-history",
   "metadata": {},
   "outputs": [],
   "source": []
  }
 ],
 "metadata": {
  "kernelspec": {
   "display_name": "Python 3",
   "language": "python",
   "name": "python3"
  },
  "language_info": {
   "codemirror_mode": {
    "name": "ipython",
    "version": 3
   },
   "file_extension": ".py",
   "mimetype": "text/x-python",
   "name": "python",
   "nbconvert_exporter": "python",
   "pygments_lexer": "ipython3",
   "version": "3.7.10"
  }
 },
 "nbformat": 4,
 "nbformat_minor": 5
}
