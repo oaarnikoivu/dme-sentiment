{
 "cells": [
  {
   "cell_type": "markdown",
   "id": "abstract-concentration",
   "metadata": {},
   "source": [
    "# Imports"
   ]
  },
  {
   "cell_type": "code",
   "execution_count": 37,
   "id": "objective-stream",
   "metadata": {
    "scrolled": true
   },
   "outputs": [
    {
     "name": "stderr",
     "output_type": "stream",
     "text": [
      "[nltk_data] Downloading package stopwords to\n",
      "[nltk_data]     /afs/inf.ed.ac.uk/user/s21/s2125219/nltk_data...\n",
      "[nltk_data]   Package stopwords is already up-to-date!\n",
      "[nltk_data] Downloading package averaged_perceptron_tagger to\n",
      "[nltk_data]     /afs/inf.ed.ac.uk/user/s21/s2125219/nltk_data...\n",
      "[nltk_data]   Package averaged_perceptron_tagger is already up-to-\n",
      "[nltk_data]       date!\n"
     ]
    }
   ],
   "source": [
    "# General\n",
    "import os\n",
    "import re\n",
    "import sys\n",
    "import string\n",
    "import pytreebank\n",
    "import nltk\n",
    "import pandas as pd\n",
    "import matplotlib.pyplot as plt\n",
    "import umap\n",
    "import umap.plot\n",
    "import numpy as np\n",
    "import emoji\n",
    "\n",
    "# Sklearn\n",
    "from sklearn.feature_extraction.text import TfidfVectorizer, CountVectorizer, TfidfTransformer\n",
    "from sklearn.model_selection import train_test_split\n",
    "from sklearn.dummy import DummyClassifier\n",
    "from sklearn.linear_model import LogisticRegression\n",
    "from sklearn.pipeline import Pipeline\n",
    "from sklearn.metrics import accuracy_score, f1_score\n",
    "from sklearn.decomposition import TruncatedSVD\n",
    "from sklearn.cluster import KMeans\n",
    "from sklearn.utils import shuffle\n",
    "from sklearn.pipeline import make_pipeline\n",
    "from sklearn.preprocessing import Normalizer\n",
    "from sklearn.metrics.pairwise import pairwise_distances\n",
    "\n",
    "# NLTK\n",
    "from nltk.corpus import stopwords\n",
    "from nltk.stem import PorterStemmer\n",
    "\n",
    "# Gensim\n",
    "from gensim.models import Word2Vec\n",
    "\n",
    "# Other\n",
    "from wordcloud import WordCloud\n",
    "from collections import OrderedDict\n",
    "from collections import Counter\n",
    "\n",
    "nltk.download('stopwords')\n",
    "nltk.download('averaged_perceptron_tagger')\n",
    "plt.style.use('bmh')"
   ]
  },
  {
   "cell_type": "markdown",
   "id": "worst-reunion",
   "metadata": {},
   "source": [
    "# Helper functions"
   ]
  },
  {
   "cell_type": "code",
   "execution_count": 38,
   "id": "distinguished-german",
   "metadata": {},
   "outputs": [],
   "source": [
    "# Compute UMAP embeddings\n",
    "def do_umap(X, n_neighbors, min_dist, n_components):\n",
    "    embedding = umap.UMAP(\n",
    "        n_neighbors=n_neighbors, \n",
    "        min_dist=min_dist, \n",
    "        n_components=n_components,\n",
    "        random_state=42\n",
    "    ).fit_transform(X)\n",
    "    return embedding\n",
    "\n",
    "# Plot umap embeddings\n",
    "def plot_umap_embeddings(embeddings, labels, size, alpha):\n",
    "    plt.figure(figsize=(10,6))\n",
    "    plt.scatter(embeddings[:, 0], embeddings[:, 1], \n",
    "                s=size, c=labels, edgecolor='none', alpha=alpha, cmap='Spectral')\n",
    "    plt.show()\n",
    "    \n",
    "# Generate wordclouds\n",
    "def generate_wordclouds(cluster_ids, word_positions, X):\n",
    "    for c_id in cluster_ids:\n",
    "        tfidf = X[y_pred == c_id]\n",
    "        tfidf_sum = np.asarray(np.sum(tfidf, axis=0)).reshape(-1)\n",
    "        top_indices = tfidf_sum.argsort()[-100:]\n",
    "        term_weights = {word_positions[idx]: tfidf_sum[idx] for idx in top_indices}\n",
    "        wc = WordCloud(width=1200, height=800, background_color=\"white\")\n",
    "        wordcloud = wc.generate_from_frequencies(term_weights)\n",
    "        fig, ax = plt.subplots(figsize=(6, 4), dpi=100)\n",
    "        ax.imshow(wordcloud, interpolation='bilinear')\n",
    "        ax.axis('off')\n",
    "        fig.suptitle(f'Cluster: {c_id}')\n",
    "        plt.show()\n",
    "\n",
    "# Find the optimal number of components to maintain from SVD,PCA\n",
    "def select_n_components(var_ratio, goal_var: float) -> int:\n",
    "    total_variance = 0.0\n",
    "    n_components = 0\n",
    "\n",
    "    for explained_variance in var_ratio:\n",
    "        total_variance += explained_variance\n",
    "        n_components += 1\n",
    "\n",
    "        if total_variance >= goal_var:\n",
    "            break\n",
    "            \n",
    "    return n_components"
   ]
  },
  {
   "cell_type": "markdown",
   "id": "cordless-trail",
   "metadata": {},
   "source": [
    "# Preprocessor class\n",
    "\n",
    "-"
   ]
  },
  {
   "cell_type": "code",
   "execution_count": 39,
   "id": "active-inspection",
   "metadata": {
    "scrolled": true
   },
   "outputs": [],
   "source": [
    "stop_words = stopwords.words('english')\n",
    "\n",
    "class Preprocessor():\n",
    "    def __init__(self, text):\n",
    "        self.text = text\n",
    "        self.vocab = set()\n",
    "        self.og_text = text\n",
    "        self.ps = PorterStemmer()\n",
    "        self.emoji_pat = '[\\U0001F300-\\U0001F64F\\U0001F680-\\U0001F6FF\\u2600-\\u26FF\\u2700-\\u27BF]'\n",
    "        self.reg_pat = re.compile(r'({})|[^!a-zA-Z]'.format(self.emoji_pat)) # Remove punctuation except emojis, and '!'\n",
    "       \n",
    "    def lowercase(self):\n",
    "        self.text = self.text.lower()\n",
    "    \n",
    "    def remove_punct(self):\n",
    "        self.text = self.reg_pat.sub(lambda x: ' {} '.format(x.group(1)) if x.group(1) else ' ', self.text)\n",
    "        self.text = re.sub(' +', ' ', self.text)\n",
    "    \n",
    "    def remove_stopwords(self, stop_words):\n",
    "        tokens = self.text.split()\n",
    "        self.text = [word.rstrip()\n",
    "                     for word in tokens if word not in stop_words]\n",
    "        self.text = ' '.join(self.text)\n",
    "    \n",
    "    def stem(self):\n",
    "        self.text = self.text.split()\n",
    "        self.text = [self.ps.stem(word) for word in self.text]\n",
    "        self.text = ' '.join(self.text)\n",
    "    \n",
    "    def tokenize(self):\n",
    "        self.text = self.text.split()\n",
    "            \n",
    "    def join_tokens(self):\n",
    "        self.text = ' '.join(self.text)\n",
    "    \n",
    "    def return_text(self):\n",
    "        return self.text\n",
    "    \n",
    "    def preprocess(self):\n",
    "        self.lowercase()\n",
    "        self.remove_punct()\n",
    "        self.remove_stopwords(stop_words)\n",
    "        self.stem()\n",
    "        self.tokenize()\n",
    "        self.join_tokens()\n",
    "        return self.return_text()"
   ]
  },
  {
   "cell_type": "markdown",
   "id": "incorrect-queensland",
   "metadata": {},
   "source": [
    "# Load Data\n",
    "\n",
    "- It looks like exclamation marks may be important to keep. They're often used to further illustrate something positive or negative.\n",
    "\n",
    "- \"Brilliant\" vs. \"Brilliant!\", second option more positive perhaps?"
   ]
  },
  {
   "cell_type": "code",
   "execution_count": 40,
   "id": "russian-superintendent",
   "metadata": {
    "scrolled": true
   },
   "outputs": [],
   "source": [
    "DATA_PATH = os.path.abspath('stanfordSentimentTreebank/')\n",
    "\n",
    "phrases = pd.read_csv(DATA_PATH + '/dictionary.txt', delimiter = \"|\", names=['phrase', 'phrase_id1'])\n",
    "labels = pd.read_csv(DATA_PATH + '/sentiment_labels.txt', delimiter = '|')\n",
    "labels.columns = ['phrase_id2', 'sentiment_val']"
   ]
  },
  {
   "cell_type": "code",
   "execution_count": 41,
   "id": "administrative-indonesian",
   "metadata": {
    "scrolled": false
   },
   "outputs": [],
   "source": [
    "phrase_df = phrases.set_index('phrase_id1').join(labels.set_index('phrase_id2'), how='inner')\\\n",
    "    .rename_axis(index='phrase_id').reset_index()"
   ]
  },
  {
   "cell_type": "code",
   "execution_count": 42,
   "id": "ancient-conservative",
   "metadata": {
    "scrolled": true
   },
   "outputs": [
    {
     "data": {
      "text/html": [
       "<div>\n",
       "<style scoped>\n",
       "    .dataframe tbody tr th:only-of-type {\n",
       "        vertical-align: middle;\n",
       "    }\n",
       "\n",
       "    .dataframe tbody tr th {\n",
       "        vertical-align: top;\n",
       "    }\n",
       "\n",
       "    .dataframe thead th {\n",
       "        text-align: right;\n",
       "    }\n",
       "</style>\n",
       "<table border=\"1\" class=\"dataframe\">\n",
       "  <thead>\n",
       "    <tr style=\"text-align: right;\">\n",
       "      <th></th>\n",
       "      <th>phrase_id</th>\n",
       "      <th>phrase</th>\n",
       "      <th>sentiment_val</th>\n",
       "      <th>label_id</th>\n",
       "      <th>label</th>\n",
       "    </tr>\n",
       "  </thead>\n",
       "  <tbody>\n",
       "    <tr>\n",
       "      <th>0</th>\n",
       "      <td>0</td>\n",
       "      <td>!</td>\n",
       "      <td>0.50000</td>\n",
       "      <td>3.0</td>\n",
       "      <td>Neutral</td>\n",
       "    </tr>\n",
       "    <tr>\n",
       "      <th>1</th>\n",
       "      <td>22935</td>\n",
       "      <td>! '</td>\n",
       "      <td>0.52778</td>\n",
       "      <td>3.0</td>\n",
       "      <td>Neutral</td>\n",
       "    </tr>\n",
       "    <tr>\n",
       "      <th>2</th>\n",
       "      <td>18235</td>\n",
       "      <td>! ''</td>\n",
       "      <td>0.50000</td>\n",
       "      <td>3.0</td>\n",
       "      <td>Neutral</td>\n",
       "    </tr>\n",
       "    <tr>\n",
       "      <th>3</th>\n",
       "      <td>179257</td>\n",
       "      <td>! Alas</td>\n",
       "      <td>0.44444</td>\n",
       "      <td>3.0</td>\n",
       "      <td>Neutral</td>\n",
       "    </tr>\n",
       "    <tr>\n",
       "      <th>4</th>\n",
       "      <td>22936</td>\n",
       "      <td>! Brilliant</td>\n",
       "      <td>0.86111</td>\n",
       "      <td>5.0</td>\n",
       "      <td>Very positive</td>\n",
       "    </tr>\n",
       "  </tbody>\n",
       "</table>\n",
       "</div>"
      ],
      "text/plain": [
       "   phrase_id       phrase  sentiment_val  label_id          label\n",
       "0          0            !        0.50000       3.0        Neutral\n",
       "1      22935          ! '        0.52778       3.0        Neutral\n",
       "2      18235         ! ''        0.50000       3.0        Neutral\n",
       "3     179257       ! Alas        0.44444       3.0        Neutral\n",
       "4      22936  ! Brilliant        0.86111       5.0  Very positive"
      ]
     },
     "execution_count": 42,
     "metadata": {},
     "output_type": "execute_result"
    }
   ],
   "source": [
    "def label_sentiment_id(row):\n",
    "    if row['sentiment_val'] > 0 and row['sentiment_val'] <= 0.2:\n",
    "        return 1 # Very negative\n",
    "    if row['sentiment_val'] > 0.2 and row['sentiment_val'] <= 0.4:\n",
    "        return 2 # negative\n",
    "    if row['sentiment_val'] > 0.4 and row['sentiment_val'] <= 0.6:\n",
    "        return 3 # Neutral\n",
    "    if row['sentiment_val'] > 0.6 and row['sentiment_val'] <= 0.8:\n",
    "        return 4 # positive\n",
    "    if row['sentiment_val'] > 0.8 and row['sentiment_val'] <= 1:\n",
    "        return 5 # Very positive\n",
    "\n",
    "def label_sentiment_name(row):\n",
    "    if row['label_id'] == 1:\n",
    "        return 'Very negative'\n",
    "    if row['label_id'] == 2:\n",
    "        return 'Negative'\n",
    "    if row['label_id'] == 3:\n",
    "        return 'Neutral'\n",
    "    if row['label_id'] == 4:\n",
    "        return 'Positive'\n",
    "    if row['label_id'] == 5:\n",
    "        return 'Very positive'\n",
    "\n",
    "phrase_df['label_id'] = phrase_df.apply(lambda row: label_sentiment_id(row), axis=1)\n",
    "phrase_df['label'] = phrase_df.apply(lambda row: label_sentiment_name(row), axis=1)\n",
    "phrase_df = phrase_df.dropna()\n",
    "phrase_df.head()"
   ]
  },
  {
   "cell_type": "code",
   "execution_count": 43,
   "id": "religious-action",
   "metadata": {
    "scrolled": true
   },
   "outputs": [],
   "source": [
    "# Apply preprocessing to phrases, create new column with cleaned text. \n",
    "phrases = phrase_df['phrase'].values.tolist()\n",
    "phrases_cleaned = [Preprocessor(phrase).preprocess() for phrase in phrases]\n",
    "phrase_df['phrase_clean'] = phrases_cleaned"
   ]
  },
  {
   "cell_type": "code",
   "execution_count": 44,
   "id": "fallen-assessment",
   "metadata": {},
   "outputs": [
    {
     "data": {
      "text/html": [
       "<div>\n",
       "<style scoped>\n",
       "    .dataframe tbody tr th:only-of-type {\n",
       "        vertical-align: middle;\n",
       "    }\n",
       "\n",
       "    .dataframe tbody tr th {\n",
       "        vertical-align: top;\n",
       "    }\n",
       "\n",
       "    .dataframe thead th {\n",
       "        text-align: right;\n",
       "    }\n",
       "</style>\n",
       "<table border=\"1\" class=\"dataframe\">\n",
       "  <thead>\n",
       "    <tr style=\"text-align: right;\">\n",
       "      <th></th>\n",
       "      <th>phrase_id</th>\n",
       "      <th>phrase</th>\n",
       "      <th>sentiment_val</th>\n",
       "      <th>label_id</th>\n",
       "      <th>label</th>\n",
       "      <th>phrase_clean</th>\n",
       "    </tr>\n",
       "  </thead>\n",
       "  <tbody>\n",
       "    <tr>\n",
       "      <th>0</th>\n",
       "      <td>0</td>\n",
       "      <td>!</td>\n",
       "      <td>0.50000</td>\n",
       "      <td>3.0</td>\n",
       "      <td>Neutral</td>\n",
       "      <td>!</td>\n",
       "    </tr>\n",
       "    <tr>\n",
       "      <th>1</th>\n",
       "      <td>22935</td>\n",
       "      <td>! '</td>\n",
       "      <td>0.52778</td>\n",
       "      <td>3.0</td>\n",
       "      <td>Neutral</td>\n",
       "      <td>!</td>\n",
       "    </tr>\n",
       "    <tr>\n",
       "      <th>2</th>\n",
       "      <td>18235</td>\n",
       "      <td>! ''</td>\n",
       "      <td>0.50000</td>\n",
       "      <td>3.0</td>\n",
       "      <td>Neutral</td>\n",
       "      <td>!</td>\n",
       "    </tr>\n",
       "    <tr>\n",
       "      <th>3</th>\n",
       "      <td>179257</td>\n",
       "      <td>! Alas</td>\n",
       "      <td>0.44444</td>\n",
       "      <td>3.0</td>\n",
       "      <td>Neutral</td>\n",
       "      <td>! ala</td>\n",
       "    </tr>\n",
       "    <tr>\n",
       "      <th>4</th>\n",
       "      <td>22936</td>\n",
       "      <td>! Brilliant</td>\n",
       "      <td>0.86111</td>\n",
       "      <td>5.0</td>\n",
       "      <td>Very positive</td>\n",
       "      <td>! brilliant</td>\n",
       "    </tr>\n",
       "  </tbody>\n",
       "</table>\n",
       "</div>"
      ],
      "text/plain": [
       "   phrase_id       phrase  sentiment_val  label_id          label phrase_clean\n",
       "0          0            !        0.50000       3.0        Neutral            !\n",
       "1      22935          ! '        0.52778       3.0        Neutral            !\n",
       "2      18235         ! ''        0.50000       3.0        Neutral            !\n",
       "3     179257       ! Alas        0.44444       3.0        Neutral        ! ala\n",
       "4      22936  ! Brilliant        0.86111       5.0  Very positive  ! brilliant"
      ]
     },
     "execution_count": 44,
     "metadata": {},
     "output_type": "execute_result"
    }
   ],
   "source": [
    "phrase_df.head()"
   ]
  },
  {
   "cell_type": "code",
   "execution_count": 45,
   "id": "spectacular-suspension",
   "metadata": {
    "scrolled": true
   },
   "outputs": [
    {
     "data": {
      "text/html": [
       "<div>\n",
       "<style scoped>\n",
       "    .dataframe tbody tr th:only-of-type {\n",
       "        vertical-align: middle;\n",
       "    }\n",
       "\n",
       "    .dataframe tbody tr th {\n",
       "        vertical-align: top;\n",
       "    }\n",
       "\n",
       "    .dataframe thead th {\n",
       "        text-align: right;\n",
       "    }\n",
       "</style>\n",
       "<table border=\"1\" class=\"dataframe\">\n",
       "  <thead>\n",
       "    <tr style=\"text-align: right;\">\n",
       "      <th></th>\n",
       "      <th>phrase_id</th>\n",
       "      <th>phrase</th>\n",
       "      <th>sentiment_val</th>\n",
       "      <th>label_id</th>\n",
       "      <th>label</th>\n",
       "      <th>phrase_clean</th>\n",
       "    </tr>\n",
       "  </thead>\n",
       "  <tbody>\n",
       "    <tr>\n",
       "      <th>2742</th>\n",
       "      <td>141325</td>\n",
       "      <td>'s fitting</td>\n",
       "      <td>0.47222</td>\n",
       "      <td>3.0</td>\n",
       "      <td>Neutral</td>\n",
       "      <td>fit</td>\n",
       "    </tr>\n",
       "    <tr>\n",
       "      <th>33799</th>\n",
       "      <td>66430</td>\n",
       "      <td>Invincible is not quite the career peak that T...</td>\n",
       "      <td>0.48611</td>\n",
       "      <td>3.0</td>\n",
       "      <td>Neutral</td>\n",
       "      <td>invinc quit career peak pianist roman polanski</td>\n",
       "    </tr>\n",
       "    <tr>\n",
       "      <th>19224</th>\n",
       "      <td>24672</td>\n",
       "      <td>Anchored by a terrific performance by Abbass ,...</td>\n",
       "      <td>0.76389</td>\n",
       "      <td>4.0</td>\n",
       "      <td>Positive</td>\n",
       "      <td>anchor terrif perform abbass satin roug show i...</td>\n",
       "    </tr>\n",
       "    <tr>\n",
       "      <th>159847</th>\n",
       "      <td>206777</td>\n",
       "      <td>mythic structure may owe more to Disney 's str...</td>\n",
       "      <td>0.27778</td>\n",
       "      <td>2.0</td>\n",
       "      <td>Negative</td>\n",
       "      <td>mythic structur may owe disney strong sens for...</td>\n",
       "    </tr>\n",
       "    <tr>\n",
       "      <th>216759</th>\n",
       "      <td>59051</td>\n",
       "      <td>thoroughly entertaining</td>\n",
       "      <td>0.87500</td>\n",
       "      <td>5.0</td>\n",
       "      <td>Very positive</td>\n",
       "      <td>thoroughli entertain</td>\n",
       "    </tr>\n",
       "  </tbody>\n",
       "</table>\n",
       "</div>"
      ],
      "text/plain": [
       "        phrase_id                                             phrase  \\\n",
       "2742       141325                                         's fitting   \n",
       "33799       66430  Invincible is not quite the career peak that T...   \n",
       "19224       24672  Anchored by a terrific performance by Abbass ,...   \n",
       "159847     206777  mythic structure may owe more to Disney 's str...   \n",
       "216759      59051                            thoroughly entertaining   \n",
       "\n",
       "        sentiment_val  label_id          label  \\\n",
       "2742          0.47222       3.0        Neutral   \n",
       "33799         0.48611       3.0        Neutral   \n",
       "19224         0.76389       4.0       Positive   \n",
       "159847        0.27778       2.0       Negative   \n",
       "216759        0.87500       5.0  Very positive   \n",
       "\n",
       "                                             phrase_clean  \n",
       "2742                                                  fit  \n",
       "33799      invinc quit career peak pianist roman polanski  \n",
       "19224   anchor terrif perform abbass satin roug show i...  \n",
       "159847  mythic structur may owe disney strong sens for...  \n",
       "216759                               thoroughli entertain  "
      ]
     },
     "execution_count": 45,
     "metadata": {},
     "output_type": "execute_result"
    }
   ],
   "source": [
    "# Optionally remove duplicates -> Think this is the best course of action, \n",
    "# maintaining duplicates doesn't really help to train the model for general language use. \n",
    "phrase_df = phrase_df.drop_duplicates(subset=['phrase_clean']) \n",
    "\n",
    "filter = phrase_df['phrase_clean'] != \"\"\n",
    "phrase_df = phrase_df[filter]\n",
    "\n",
    "phrase_df = shuffle(phrase_df)\n",
    "phrase_df.head()"
   ]
  },
  {
   "cell_type": "markdown",
   "id": "endless-honey",
   "metadata": {},
   "source": [
    "# Train/test/dev split on phrases"
   ]
  },
  {
   "cell_type": "code",
   "execution_count": 118,
   "id": "dying-expense",
   "metadata": {
    "scrolled": true
   },
   "outputs": [],
   "source": [
    "train, test = train_test_split(phrase_df, test_size=0.2)\n",
    "train, dev = train_test_split(phrase_df, test_size=0.25)"
   ]
  },
  {
   "cell_type": "code",
   "execution_count": 119,
   "id": "transsexual-daniel",
   "metadata": {
    "scrolled": true
   },
   "outputs": [],
   "source": [
    "X_train, y_train = train['phrase_clean'], train['label_id']\n",
    "X_test, y_test = test['phrase_clean'], test['label_id']\n",
    "X_dev, y_dev = dev['phrase_clean'], dev['label_id']"
   ]
  },
  {
   "cell_type": "code",
   "execution_count": 120,
   "id": "chicken-shooting",
   "metadata": {},
   "outputs": [],
   "source": [
    "train_phrases = X_train.tolist()\n",
    "dev_phrases = X_dev.tolist()\n",
    "test_phrases = X_test.tolist()"
   ]
  },
  {
   "cell_type": "markdown",
   "id": "stuck-involvement",
   "metadata": {},
   "source": [
    "# Exploratory Data Analysis"
   ]
  },
  {
   "cell_type": "markdown",
   "id": "viral-technician",
   "metadata": {},
   "source": [
    "## Sentiment class balance"
   ]
  },
  {
   "cell_type": "code",
   "execution_count": 185,
   "id": "settled-exhibit",
   "metadata": {
    "scrolled": true
   },
   "outputs": [
    {
     "data": {
      "image/png": "[encoded data removed]",
      "text/plain": [
       "<Figure size 720x432 with 1 Axes>"
      ]
     },
     "metadata": {
      "needs_background": "light"
     },
     "output_type": "display_data"
    }
   ],
   "source": [
    "fig, ax = plt.subplots(figsize = (10,6))\n",
    "ax = train['label'].sort_values(ascending=False).value_counts().plot(kind='bar', alpha=0.65)\n",
    "ax.set_xlabel('Sentiment')\n",
    "ax.set_ylabel('Frequency')\n",
    "ax.set_title('Class label balance')\n",
    "ax.tick_params(left = False, bottom = False)\n",
    "for ax, spine in ax.spines.items():\n",
    "        spine.set_visible(False)\n",
    "\n",
    "plt.savefig('label_balance', dpi=300)"
   ]
  },
  {
   "cell_type": "markdown",
   "id": "permanent-classic",
   "metadata": {},
   "source": [
    "- Majority of the training instances are labelled neutral. \n",
    "- Positives and negatives are fairly balanced. \n",
    "- Since the majority are neutral, dataset is unbalanced."
   ]
  },
  {
   "cell_type": "markdown",
   "id": "acceptable-attachment",
   "metadata": {},
   "source": [
    "### Text length"
   ]
  },
  {
   "cell_type": "code",
   "execution_count": 186,
   "id": "gothic-peninsula",
   "metadata": {
    "scrolled": true
   },
   "outputs": [
    {
     "name": "stdout",
     "output_type": "stream",
     "text": [
      "count    84768.00000\n",
      "mean         4.69367\n",
      "std          3.81718\n",
      "min          1.00000\n",
      "25%          2.00000\n",
      "50%          3.00000\n",
      "75%          6.00000\n",
      "max         30.00000\n",
      "Name: phrase_clean, dtype: float64\n"
     ]
    },
    {
     "data": {
      "image/png": "[encoded data removed]",
      "text/plain": [
       "<Figure size 720x432 with 1 Axes>"
      ]
     },
     "metadata": {
      "needs_background": "light"
     },
     "output_type": "display_data"
    },
    {
     "data": {
      "text/plain": [
       "<Figure size 432x288 with 0 Axes>"
      ]
     },
     "metadata": {},
     "output_type": "display_data"
    }
   ],
   "source": [
    "def plot_text_length(text, title):\n",
    "    lens = text.str.split().apply(lambda x:  len(x))\n",
    "    print(lens.describe())\n",
    "    \n",
    "    fig, ax = plt.subplots(figsize = (10,6))\n",
    "    lens.plot(kind='hist', density=True, bins=15, alpha=0.65)\n",
    "    lens.plot(kind='kde')\n",
    "    ax.set_xlabel(\"Phrase length\")\n",
    "    ax.set_ylabel(\"Density\")\n",
    "    ax.set_xlim(-2, 30)\n",
    "    ax.set_title(title)\n",
    "    ax.tick_params(left = False, bottom = False)\n",
    "\n",
    "    for ax, spine in ax.spines.items():\n",
    "        spine.set_visible(False)\n",
    "    \n",
    "    plt.show()\n",
    "\n",
    "plot_text_length(train['phrase_clean'], title='Phrase length distribution')\n",
    "plt.savefig('phrase len', dpi=300)"
   ]
  },
  {
   "cell_type": "markdown",
   "id": "higher-coordinate",
   "metadata": {},
   "source": [
    "- Most of the phrases are consist of 1-10 words.\n",
    "- Postively skewed (long right tail).\n",
    "- Consequences: Model likely has an easier time classifying shorter phrases."
   ]
  },
  {
   "cell_type": "code",
   "execution_count": 187,
   "id": "impressed-leeds",
   "metadata": {
    "scrolled": true
   },
   "outputs": [
    {
     "name": "stdout",
     "output_type": "stream",
     "text": [
      "count    24356.000000\n",
      "mean         5.579816\n",
      "std          4.138348\n",
      "min          1.000000\n",
      "25%          2.000000\n",
      "50%          4.000000\n",
      "75%          7.000000\n",
      "max         29.000000\n",
      "Name: phrase_clean, dtype: float64\n"
     ]
    },
    {
     "data": {
      "image/png": "[encoded data removed]",
      "text/plain": [
       "<Figure size 720x432 with 1 Axes>"
      ]
     },
     "metadata": {
      "needs_background": "light"
     },
     "output_type": "display_data"
    },
    {
     "data": {
      "text/plain": [
       "<Figure size 432x288 with 0 Axes>"
      ]
     },
     "metadata": {},
     "output_type": "display_data"
    }
   ],
   "source": [
    "# Positive sentences\n",
    "plot_text_length(train[train['label_id'] > 3]['phrase_clean'], title='Phrase length distribution (positive instances)')\n",
    "plt.savefig('phrase len pos', dpi=300)"
   ]
  },
  {
   "cell_type": "markdown",
   "id": "hundred-grant",
   "metadata": {},
   "source": [
    "- Positive instances also contain more short phrases.\n",
    "- A few more cases of phrases with > 10 length."
   ]
  },
  {
   "cell_type": "code",
   "execution_count": 188,
   "id": "obvious-native",
   "metadata": {
    "scrolled": true
   },
   "outputs": [
    {
     "name": "stdout",
     "output_type": "stream",
     "text": [
      "count    20313.000000\n",
      "mean         5.834835\n",
      "std          4.209292\n",
      "min          1.000000\n",
      "25%          3.000000\n",
      "50%          5.000000\n",
      "75%          8.000000\n",
      "max         30.000000\n",
      "Name: phrase_clean, dtype: float64\n"
     ]
    },
    {
     "data": {
      "image/png": "[encoded data removed]",
      "text/plain": [
       "<Figure size 720x432 with 1 Axes>"
      ]
     },
     "metadata": {
      "needs_background": "light"
     },
     "output_type": "display_data"
    },
    {
     "data": {
      "text/plain": [
       "<Figure size 432x288 with 0 Axes>"
      ]
     },
     "metadata": {},
     "output_type": "display_data"
    }
   ],
   "source": [
    "# Negative sentences\n",
    "plot_text_length(train[train['label_id'] < 3]['phrase_clean'], title='Phrase length distribution (negative instances)')\n",
    "plt.savefig('Phrase len neg', dpi=300)"
   ]
  },
  {
   "cell_type": "markdown",
   "id": "cloudy-crazy",
   "metadata": {},
   "source": [
    "- Still heavily right skewed, however slightly less than the positive cases.\n",
    "- Suggesting that phrases labelled negative are generally longer in the training data."
   ]
  },
  {
   "cell_type": "markdown",
   "id": "pregnant-collective",
   "metadata": {},
   "source": [
    "## Avg number of words per sentiment label"
   ]
  },
  {
   "cell_type": "code",
   "execution_count": 189,
   "id": "precious-medicine",
   "metadata": {
    "scrolled": true
   },
   "outputs": [
    {
     "name": "stderr",
     "output_type": "stream",
     "text": [
      "/afs/inf.ed.ac.uk/user/s21/s2125219/miniconda3/envs/dme/lib/python3.7/site-packages/ipykernel_launcher.py:1: SettingWithCopyWarning: \n",
      "A value is trying to be set on a copy of a slice from a DataFrame.\n",
      "Try using .loc[row_indexer,col_indexer] = value instead\n",
      "\n",
      "See the caveats in the documentation: https://pandas.pydata.org/pandas-docs/stable/user_guide/indexing.html#returning-a-view-versus-a-copy\n",
      "  \"\"\"Entry point for launching an IPython kernel.\n"
     ]
    }
   ],
   "source": [
    "train['word_count'] = train['phrase_clean'].apply(lambda x: len(str(x).split()))"
   ]
  },
  {
   "cell_type": "code",
   "execution_count": 190,
   "id": "faced-wallet",
   "metadata": {
    "scrolled": true
   },
   "outputs": [
    {
     "data": {
      "image/png": "[encoded data removed]",
      "text/plain": [
       "<Figure size 720x432 with 1 Axes>"
      ]
     },
     "metadata": {
      "needs_background": "light"
     },
     "output_type": "display_data"
    }
   ],
   "source": [
    "word_avg = train.groupby('label')['word_count']\n",
    "\n",
    "fig, ax = plt.subplots(figsize = (10,6))\n",
    "ax = word_avg.mean().plot(kind='bar', alpha=0.65)\n",
    "ax = word_avg.median().plot(kind='bar', alpha=0.65, color='red')\n",
    "ax.set_xlabel('Sentiment')\n",
    "ax.set_ylabel('Avg. Words')\n",
    "ax.set_title('Mean and Median Number of Words per Sentiment Label')\n",
    "ax.tick_params(left = False, bottom = False)\n",
    "for ax, spine in ax.spines.items():\n",
    "        spine.set_visible(False)\n",
    "plt.legend(['Mean', 'Median'])\n",
    "plt.savefig('mean_med', dpi=300)"
   ]
  },
  {
   "cell_type": "code",
   "execution_count": 191,
   "id": "governing-waste",
   "metadata": {
    "scrolled": true
   },
   "outputs": [
    {
     "data": {
      "text/plain": [
       "label\n",
       "Negative         5.538319\n",
       "Neutral          3.577346\n",
       "Positive         5.302956\n",
       "Very negative    6.982023\n",
       "Very positive    6.483284\n",
       "Name: word_count, dtype: float64"
      ]
     },
     "execution_count": 191,
     "metadata": {},
     "output_type": "execute_result"
    }
   ],
   "source": [
    "word_avg.mean()"
   ]
  },
  {
   "cell_type": "code",
   "execution_count": 192,
   "id": "stupid-mandate",
   "metadata": {
    "scrolled": true
   },
   "outputs": [
    {
     "data": {
      "text/plain": [
       "label\n",
       "Negative         4\n",
       "Neutral          3\n",
       "Positive         4\n",
       "Very negative    6\n",
       "Very positive    5\n",
       "Name: word_count, dtype: int64"
      ]
     },
     "execution_count": 192,
     "metadata": {},
     "output_type": "execute_result"
    }
   ],
   "source": [
    "word_avg.median()"
   ]
  },
  {
   "cell_type": "markdown",
   "id": "czech-mistake",
   "metadata": {},
   "source": [
    "- Neutral phrases are short.\n",
    "- Very postive and negative phrases contain on average a lot more words. "
   ]
  },
  {
   "cell_type": "markdown",
   "id": "facial-celebration",
   "metadata": {},
   "source": [
    "# Dimensionality reduction\n",
    "\n",
    "- No clear separation between phrases\n",
    "- Will be difficult to categorize\n",
    "- Text data is noisy. Perhaps reducing the number of labels -> Negative, Neutral, Positive?"
   ]
  },
  {
   "cell_type": "markdown",
   "id": "mighty-relief",
   "metadata": {},
   "source": [
    "## Tfidf Vectorizer"
   ]
  },
  {
   "cell_type": "code",
   "execution_count": 139,
   "id": "alien-miracle",
   "metadata": {
    "scrolled": true
   },
   "outputs": [],
   "source": [
    "vectorizer = TfidfVectorizer(analyzer='word', \n",
    "                             max_features=500,\n",
    "                             use_idf=True, \n",
    "                             ngram_range=(1,1))"
   ]
  },
  {
   "cell_type": "code",
   "execution_count": 140,
   "id": "intermediate-organizer",
   "metadata": {},
   "outputs": [],
   "source": [
    "X_tfidf = vectorizer.fit_transform(X_train)"
   ]
  },
  {
   "cell_type": "markdown",
   "id": "tutorial-barrier",
   "metadata": {},
   "source": [
    "### Truncated SVD"
   ]
  },
  {
   "cell_type": "code",
   "execution_count": 141,
   "id": "modified-dover",
   "metadata": {
    "scrolled": true
   },
   "outputs": [],
   "source": [
    "svd = TruncatedSVD(n_components=2, random_state=42)\n",
    "X_svd = svd.fit_transform(X_tfidf)"
   ]
  },
  {
   "cell_type": "code",
   "execution_count": 142,
   "id": "metallic-manufacturer",
   "metadata": {
    "scrolled": true
   },
   "outputs": [
    {
     "data": {
      "text/plain": [
       "<matplotlib.colorbar.Colorbar at 0x7f9b5c12bcd0>"
      ]
     },
     "execution_count": 142,
     "metadata": {},
     "output_type": "execute_result"
    },
    {
     "data": {
      "image/png": "[encoded data removed]",
      "text/plain": [
       "<Figure size 720x432 with 2 Axes>"
      ]
     },
     "metadata": {
      "needs_background": "light"
     },
     "output_type": "display_data"
    }
   ],
   "source": [
    "fig, ax = plt.subplots(figsize = (10,6))\n",
    "\n",
    "plt.scatter(X_svd[:, 0], X_svd[:, 1], \n",
    "            c=y_train, \n",
    "            edgecolor='none', \n",
    "            alpha=0.15, \n",
    "            cmap=plt.cm.get_cmap('Spectral', 10))\n",
    "\n",
    "plt.xlabel('PC1')\n",
    "plt.ylabel('PC2')\n",
    "plt.title('2D Truncated SVD on Character Level TF-IDF Vectors')\n",
    "plt.colorbar()"
   ]
  },
  {
   "cell_type": "code",
   "execution_count": null,
   "id": "checked-directive",
   "metadata": {
    "scrolled": true
   },
   "outputs": [],
   "source": [
    "tsvd = TruncatedSVD(n_components=X_tfidf.shape[1]-1)\n",
    "X_svd = tsvd.fit(X_tfidf)\n",
    "tsvd_var_ratios = tsvd.explained_variance_ratio_"
   ]
  },
  {
   "cell_type": "code",
   "execution_count": null,
   "id": "seven-discharge",
   "metadata": {
    "scrolled": true
   },
   "outputs": [],
   "source": [
    "# Plot the explained variance vs. the number of components\n",
    "\n",
    "fig, ax = plt.subplots(figsize = (10,6))\n",
    "\n",
    "plt.plot(np.cumsum(tsvd.explained_variance_ratio_))\n",
    "plt.xlabel('Number of components')\n",
    "plt.ylabel('Cumulative explained variance');\n",
    "plt.title('Truncated SVD Cumulative Explained Variance vs. Number of Components')\n",
    "\n",
    "plt.savefig('tsvd-comps', dpi=300)"
   ]
  },
  {
   "cell_type": "code",
   "execution_count": null,
   "id": "awful-penalty",
   "metadata": {
    "scrolled": true
   },
   "outputs": [],
   "source": [
    "print(f'Optimal number of components: {select_n_components(tsvd_var_ratios, 0.95)}')"
   ]
  },
  {
   "cell_type": "markdown",
   "id": "aboriginal-spain",
   "metadata": {},
   "source": [
    "# Supervised prediction"
   ]
  },
  {
   "cell_type": "markdown",
   "id": "dental-latter",
   "metadata": {},
   "source": [
    "## Dummy classifier"
   ]
  },
  {
   "cell_type": "code",
   "execution_count": 122,
   "id": "structural-standing",
   "metadata": {
    "scrolled": true
   },
   "outputs": [],
   "source": [
    "def dummy_pipeline(train, labels, dummy_strategy, is_truncated=False):\n",
    "    clf = DummyClassifier(strategy=dummy_strategy)\n",
    "    if not is_truncated:\n",
    "        pipeline = Pipeline([\n",
    "            ('vect', TfidfVectorizer(ngram_range=(1,2), analyzer='char', sublinear_tf=True)),\n",
    "            ('clf', clf)\n",
    "        ])\n",
    "    pipeline.fit(train, labels)\n",
    "    return pipeline"
   ]
  },
  {
   "cell_type": "code",
   "execution_count": 123,
   "id": "leading-essence",
   "metadata": {
    "scrolled": true
   },
   "outputs": [],
   "source": [
    "dummy_pipe_mf = dummy_pipeline(X_train, y_train, 'most_frequent')\n",
    "dev_preds_mf = dummy_pipe_mf.predict(X_dev)"
   ]
  },
  {
   "cell_type": "code",
   "execution_count": 124,
   "id": "blind-possibility",
   "metadata": {
    "scrolled": true
   },
   "outputs": [
    {
     "name": "stdout",
     "output_type": "stream",
     "text": [
      "0.496\n",
      "0.328\n"
     ]
    }
   ],
   "source": [
    "dev_acc_mf = accuracy_score(y_dev, dev_preds_mf)\n",
    "dev_f1_mf = f1_score(y_dev, dev_preds_mf, average='weighted')\n",
    "\n",
    "print(f'{dev_acc_mf:.3f}')\n",
    "print(f'{dev_f1_mf:.3f}')"
   ]
  },
  {
   "cell_type": "code",
   "execution_count": 125,
   "id": "assured-landscape",
   "metadata": {
    "scrolled": true
   },
   "outputs": [
    {
     "data": {
      "text/plain": [
       "{3.0: 59198}"
      ]
     },
     "execution_count": 125,
     "metadata": {},
     "output_type": "execute_result"
    }
   ],
   "source": [
    "pred_counts = {}\n",
    "\n",
    "for pred in dev_preds_mf:\n",
    "    if pred in pred_counts:\n",
    "        pred_counts[pred] += 1\n",
    "    else:\n",
    "        pred_counts[pred] = 0\n",
    "\n",
    "pred_counts"
   ]
  },
  {
   "cell_type": "markdown",
   "id": "numerical-tradition",
   "metadata": {},
   "source": [
    "- Dummy classifier predicts everything as 3.\n",
    "- Thus, accuracy is bad evaluation metric since the dataset is imbalanced and the majority of sentiment labels are neutrla. \n",
    "- Will predict the correct case the majority of the time. "
   ]
  },
  {
   "cell_type": "code",
   "execution_count": 126,
   "id": "adult-astrology",
   "metadata": {
    "scrolled": true
   },
   "outputs": [],
   "source": [
    "dummy_pipe_strat = dummy_pipeline(X_train, y_train, 'stratified')\n",
    "dev_preds_strat = dummy_pipe_strat.predict(X_dev)"
   ]
  },
  {
   "cell_type": "code",
   "execution_count": 127,
   "id": "vital-regulation",
   "metadata": {
    "scrolled": true
   },
   "outputs": [
    {
     "name": "stdout",
     "output_type": "stream",
     "text": [
      "0.330\n",
      "0.330\n"
     ]
    }
   ],
   "source": [
    "dev_acc_strat = accuracy_score(y_dev, dev_preds_strat)\n",
    "dev_f1_strat = f1_score(y_dev, dev_preds_strat, average='weighted')\n",
    "\n",
    "print(f'{dev_acc_strat:.3f}')\n",
    "print(f'{dev_f1_strat:.3f}')"
   ]
  },
  {
   "cell_type": "code",
   "execution_count": 128,
   "id": "inclusive-warrior",
   "metadata": {
    "scrolled": true
   },
   "outputs": [
    {
     "data": {
      "text/plain": [
       "{2.0: 10727, 4.0: 12561, 3.0: 29286, 5.0: 3822, 1.0: 2798}"
      ]
     },
     "execution_count": 128,
     "metadata": {},
     "output_type": "execute_result"
    }
   ],
   "source": [
    "pred_counts = {}\n",
    "\n",
    "for pred in dev_preds_strat:\n",
    "    if pred in pred_counts:\n",
    "        pred_counts[pred] += 1\n",
    "    else:\n",
    "        pred_counts[pred] = 0\n",
    "\n",
    "pred_counts"
   ]
  },
  {
   "cell_type": "markdown",
   "id": "experimental-revelation",
   "metadata": {},
   "source": [
    "- Stratified DummyClassifier does a better job as it doesnt simply just predict neutral, i.e. the most frequent one."
   ]
  },
  {
   "cell_type": "markdown",
   "id": "loved-muslim",
   "metadata": {},
   "source": [
    "# Unsupervised Clustering\n",
    "\n",
    "- KMeans does not work well on high-dimensional data, better to reduce dimensionality of data first, and then do KMeans on reduced space: https://stats.stackexchange.com/questions/199501/user-segmentation-by-clustering-with-sparse-data"
   ]
  },
  {
   "cell_type": "code",
   "execution_count": 46,
   "id": "negative-chance",
   "metadata": {},
   "outputs": [],
   "source": [
    "from sklearn import metrics"
   ]
  },
  {
   "cell_type": "code",
   "execution_count": 62,
   "id": "experimental-welding",
   "metadata": {},
   "outputs": [],
   "source": [
    "phrases, labels = phrase_df['phrase_clean'], phrase_df['label_id']"
   ]
  },
  {
   "cell_type": "code",
   "execution_count": 63,
   "id": "entertaining-termination",
   "metadata": {},
   "outputs": [],
   "source": [
    "k_labels = phrase_df['label_id'].values.tolist()\n",
    "true_k = np.unique(k_labels).shape[0]"
   ]
  },
  {
   "cell_type": "code",
   "execution_count": 109,
   "id": "australian-peoples",
   "metadata": {},
   "outputs": [],
   "source": [
    "vectorizer = TfidfVectorizer(analyzer='word', \n",
    "                             max_features=100,\n",
    "                             use_idf=True, \n",
    "                             ngram_range=(1,1))\n",
    "\n",
    "X = vectorizer.fit_transform(phrase_df['phrase_clean'])"
   ]
  },
  {
   "cell_type": "code",
   "execution_count": 110,
   "id": "intimate-fairy",
   "metadata": {},
   "outputs": [],
   "source": [
    "# svd = TruncatedSVD(n_components=500)\n",
    "# normalizer = Normalizer(copy=False)\n",
    "# lsa = make_pipeline(svd, normalizer)\n",
    "# X = lsa.fit_transform(X_vect)\n",
    "\n",
    "# print(svd.explained_variance_ratio_.sum())"
   ]
  },
  {
   "cell_type": "code",
   "execution_count": 111,
   "id": "hired-sword",
   "metadata": {},
   "outputs": [
    {
     "data": {
      "image/png": "[encoded data removed]",
      "text/plain": [
       "<Figure size 432x288 with 1 Axes>"
      ]
     },
     "metadata": {
      "needs_background": "light"
     },
     "output_type": "display_data"
    }
   ],
   "source": [
    "# Elbow method for finding optimal number of clusters\n",
    "wcss = []\n",
    "\n",
    "for i in range(1, 11):\n",
    "    kmeans = KMeans(n_clusters=i, init='k-means++', n_init=1, max_iter=100, random_state=42)\n",
    "    kmeans.fit(X)\n",
    "    wcss.append(kmeans.inertia_)\n",
    "    \n",
    "plt.plot(range(1,11), wcss)\n",
    "plt.title('Elbow Method')\n",
    "plt.xlabel('Number of Clusters')\n",
    "plt.ylabel('wcss')\n",
    "plt.show()"
   ]
  },
  {
   "cell_type": "code",
   "execution_count": 114,
   "id": "julian-enclosure",
   "metadata": {},
   "outputs": [
    {
     "name": "stdout",
     "output_type": "stream",
     "text": [
      "Homogeneity: 0.006\n",
      "Completeness: 0.016\n",
      "V-measure: 0.009\n",
      "Adjusted Rand-Index: 0.354\n",
      "Silhouette Coefficient: 0.326\n"
     ]
    },
    {
     "name": "stderr",
     "output_type": "stream",
     "text": [
      "/afs/inf.ed.ac.uk/user/s21/s2125219/miniconda3/envs/dme/lib/python3.7/site-packages/sklearn/metrics/cluster/_supervised.py:389: RuntimeWarning: overflow encountered in long_scalars\n",
      "  return 2. * (tp * tn - fn * fp) / ((tp + fn) * (fn + tn) +\n",
      "/afs/inf.ed.ac.uk/user/s21/s2125219/miniconda3/envs/dme/lib/python3.7/site-packages/sklearn/metrics/cluster/_supervised.py:390: RuntimeWarning: overflow encountered in long_scalars\n",
      "  (tp + fp) * (fp + tn))\n"
     ]
    }
   ],
   "source": [
    "km = KMeans(n_clusters=6, init='k-means++', max_iter=100, n_init=1)\n",
    "km.fit(X)\n",
    "\n",
    "print(\"Homogeneity: %0.3f\" % metrics.homogeneity_score(labels, km.labels_))\n",
    "print(\"Completeness: %0.3f\" % metrics.completeness_score(labels, km.labels_))\n",
    "print(\"V-measure: %0.3f\" % metrics.v_measure_score(labels, km.labels_))\n",
    "print(\"Adjusted Rand-Index: %.3f\"\n",
    "      % metrics.adjusted_rand_score(labels, km.labels_))\n",
    "print(\"Silhouette Coefficient: %0.3f\"\n",
    "      % metrics.silhouette_score(X, km.labels_, sample_size=1000))"
   ]
  },
  {
   "cell_type": "code",
   "execution_count": 115,
   "id": "administrative-madrid",
   "metadata": {},
   "outputs": [
    {
     "name": "stdout",
     "output_type": "stream",
     "text": [
      "Cluster 0:  movi one charact stori make comedi perform even good work much director life littl well way funni get enough look us new plot come action audienc act entertain bad emot interest thing year two take feel end see self watch old best drama go never humor someth world would peopl live seem cast heart mani scene direct minut made everi give filmmak sens pictur star actor screen big long man could american may without play fun better hollywood still show origin anoth famili less great realli power first real noth enjoy ever tri kind find film like time love human\n",
      "\n",
      "Cluster 1:  time movi good first film one long minut like mani much take well feel stori get director watch work make way everi seem screen come look big interest even real two great us give go charact could act old realli better plot littl direct live enjoy anoth funni emot life see end peopl still kind drama year someth sens audienc power action show less bad would cast tri actor filmmak play entertain find new thing heart noth never best origin may made enough comedi hollywood scene pictur man ever without star self perform humor fun american world famili love human\n",
      "\n",
      "Cluster 2:  human charact film life world emot find littl like one humor us feel much stori long movi comedi live good make drama could give power funni show take real everi time still audienc heart act peopl screen hollywood way watch made great new end enough even realli never ever get self may love play perform kind american action man sens two pictur interest look come seem actor big thing well someth director less better plot would star year work without origin tri mani best direct go minut famili see bad anoth old cast enjoy entertain filmmak first noth scene fun\n",
      "\n",
      "Cluster 3:  love stori film movi like one peopl made way life littl much famili well power first us even come charact new big make time find may great bad good old realli perform never go see two work drama american entertain origin feel could comedi end interest better emot look audienc ever long world pictur live would take self real director tri year humor kind get star screen fun give cast best enjoy funni mani play less thing still someth scene seem without noth actor minut act direct action enough plot show anoth heart sens filmmak watch everi hollywood man human\n",
      "\n",
      "Cluster 4:  film make one best perform director come charact well first littl good action work stori year way made emot much new even movi everi comedi seem take funni never two end better life american famili minut enough could mani power may look heart entertain kind see would watch thing give feel someth live bad world plot get direct audienc enjoy realli great tri sens man go ever cast less anoth fun us interest peopl find humor play star without still scene long hollywood noth act drama self real actor big old show origin filmmak pictur screen like time human love\n",
      "\n",
      "Cluster 5:  like feel movi film look much play make one seem someth old go new life bad would watch get work stori long end american minut year charact way without see even come big thing real less still mani noth audienc made good fun could well enough screen enjoy entertain tri act two famili littl world never origin anoth action us may great peopl first show humor find everi emot pictur heart filmmak kind better comedi interest star best take drama ever hollywood live plot director actor self man direct cast give realli power perform scene funni time sens love human\n",
      "\n"
     ]
    }
   ],
   "source": [
    "# original_space_centroids = svd.inverse_transform(km.cluster_centers_)\n",
    "# order_centroids = original_space_centroids.argsort()[:, ::-1]\n",
    "\n",
    "order_centroids = km.cluster_centers_.argsort()[:, ::-1]\n",
    "\n",
    "terms = vectorizer.get_feature_names()\n",
    "\n",
    "for i in range(6):\n",
    "    print(\"Cluster %d: \" % i, end='')\n",
    "    for idx in order_centroids[i, :200]:\n",
    "        print(' %s' % terms[idx], end='')\n",
    "    print('\\n')"
   ]
  },
  {
   "cell_type": "code",
   "execution_count": null,
   "id": "pretty-platform",
   "metadata": {},
   "outputs": [],
   "source": []
  }
 ],
 "metadata": {
  "kernelspec": {
   "display_name": "Python 3",
   "language": "python",
   "name": "python3"
  },
  "language_info": {
   "codemirror_mode": {
    "name": "ipython",
    "version": 3
   },
   "file_extension": ".py",
   "mimetype": "text/x-python",
   "name": "python",
   "nbconvert_exporter": "python",
   "pygments_lexer": "ipython3",
   "version": "3.7.10"
  }
 },
 "nbformat": 4,
 "nbformat_minor": 5
}
