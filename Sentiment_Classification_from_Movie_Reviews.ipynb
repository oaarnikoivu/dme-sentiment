{
  "nbformat": 4,
  "nbformat_minor": 0,
  "metadata": {
    "colab": {
      "name": "Sentiment Classification from Movie Reviews",
      "provenance": [],
      "collapsed_sections": [],
      "toc_visible": true,
      "mount_file_id": "1SnuOkXY_7w-4skrcEpZfoJ9hgBLR6_ZO",
      "authorship_tag": "ABX9TyPCOBUw0maE/De2JRY1jphw",
      "include_colab_link": true
    },
    "kernelspec": {
      "name": "python3",
      "display_name": "Python 3"
    }
  },
  "cells": [
    {
      "cell_type": "markdown",
      "metadata": {
        "id": "view-in-github",
        "colab_type": "text"
      },
      "source": [
        "<a href=\"https://colab.research.google.com/github/oaarnikoivu/dme-sentiment/blob/main/Sentiment_Classification_from_Movie_Reviews.ipynb\" target=\"_parent\"><img src=\"https://colab.research.google.com/assets/colab-badge.svg\" alt=\"Open In Colab\"/></a>"
      ]
    },
    {
      "cell_type": "markdown",
      "metadata": {
        "id": "H74cZsY9U_5J"
      },
      "source": [
        "# Data Mining and Exploration - Sentiment Classification from Movie Reviews"
      ]
    },
    {
      "cell_type": "markdown",
      "metadata": {
        "id": "r2ghE74-U-LQ"
      },
      "source": [
        "# Imports"
      ]
    },
    {
      "cell_type": "code",
      "metadata": {
        "id": "OtE25EdxVEOj"
      },
      "source": [
        "import numpy as np\n",
        "import pandas as pd"
      ],
      "execution_count": 1,
      "outputs": []
    },
    {
      "cell_type": "markdown",
      "metadata": {
        "id": "_Lolv5HrUneA"
      },
      "source": [
        "# Data Preparation"
      ]
    },
    {
      "cell_type": "code",
      "metadata": {
        "id": "eGQjapkGVnSd"
      },
      "source": [
        "PHRASES_PATH = '/content/drive/MyDrive/dme_data/stanfordSentimentTreebankRaw'\n",
        "LABELS_PATH = '/content/drive/MyDrive/dme_data/stanfordSentimentTreebank'\n",
        "\n",
        "phrases = pd.read_csv(PHRASES_PATH + '/sentlex_exp12.txt', delimiter = \",\", names=['phrase_id', 'phrase'])\n",
        "labels = pd.read_csv(LABELS_PATH + '/sentiment_labels.txt', delimiter = '|')"
      ],
      "execution_count": 41,
      "outputs": []
    },
    {
      "cell_type": "code",
      "metadata": {
        "id": "r9nGmXF9bA6X"
      },
      "source": [
        "df = pd.concat([phrases, labels], axis=1)\n",
        "del df['phrase ids']\n",
        "\n",
        "# provide categorical labels (positive or negative sentiment) based on whether\n",
        "# sentiment value >= 0.5 \n",
        "df['label'] = np.where(df['sentiment values']>=0.5, 1, 0)"
      ],
      "execution_count": 53,
      "outputs": []
    },
    {
      "cell_type": "code",
      "metadata": {
        "colab": {
          "base_uri": "https://localhost:8080/",
          "height": 204
        },
        "id": "LaWrIFPpbDUu",
        "outputId": "bb3ca7e0-1b91-4633-c953-96be98814899"
      },
      "source": [
        "df.head()"
      ],
      "execution_count": 54,
      "outputs": [
        {
          "output_type": "execute_result",
          "data": {
            "text/html": [
              "<div>\n",
              "<style scoped>\n",
              "    .dataframe tbody tr th:only-of-type {\n",
              "        vertical-align: middle;\n",
              "    }\n",
              "\n",
              "    .dataframe tbody tr th {\n",
              "        vertical-align: top;\n",
              "    }\n",
              "\n",
              "    .dataframe thead th {\n",
              "        text-align: right;\n",
              "    }\n",
              "</style>\n",
              "<table border=\"1\" class=\"dataframe\">\n",
              "  <thead>\n",
              "    <tr style=\"text-align: right;\">\n",
              "      <th></th>\n",
              "      <th>phrase_id</th>\n",
              "      <th>phrase</th>\n",
              "      <th>sentiment values</th>\n",
              "      <th>label</th>\n",
              "    </tr>\n",
              "  </thead>\n",
              "  <tbody>\n",
              "    <tr>\n",
              "      <th>0</th>\n",
              "      <td>0</td>\n",
              "      <td>!</td>\n",
              "      <td>0.50000</td>\n",
              "      <td>1</td>\n",
              "    </tr>\n",
              "    <tr>\n",
              "      <th>1</th>\n",
              "      <td>1</td>\n",
              "      <td>'</td>\n",
              "      <td>0.50000</td>\n",
              "      <td>1</td>\n",
              "    </tr>\n",
              "    <tr>\n",
              "      <th>2</th>\n",
              "      <td>2</td>\n",
              "      <td>' (</td>\n",
              "      <td>0.44444</td>\n",
              "      <td>0</td>\n",
              "    </tr>\n",
              "    <tr>\n",
              "      <th>3</th>\n",
              "      <td>3</td>\n",
              "      <td>' ( the cockettes</td>\n",
              "      <td>0.50000</td>\n",
              "      <td>1</td>\n",
              "    </tr>\n",
              "    <tr>\n",
              "      <th>4</th>\n",
              "      <td>4</td>\n",
              "      <td>' ( the cockettes )</td>\n",
              "      <td>0.42708</td>\n",
              "      <td>0</td>\n",
              "    </tr>\n",
              "  </tbody>\n",
              "</table>\n",
              "</div>"
            ],
            "text/plain": [
              "   phrase_id               phrase  sentiment values  label\n",
              "0          0                    !           0.50000      1\n",
              "1          1                    '           0.50000      1\n",
              "2          2                  ' (           0.44444      0\n",
              "3          3    ' ( the cockettes           0.50000      1\n",
              "4          4  ' ( the cockettes )           0.42708      0"
            ]
          },
          "metadata": {
            "tags": []
          },
          "execution_count": 54
        }
      ]
    },
    {
      "cell_type": "markdown",
      "metadata": {
        "id": "_O1h8_o3UsiT"
      },
      "source": [
        "# Exploratory Data Analysis"
      ]
    },
    {
      "cell_type": "markdown",
      "metadata": {
        "id": "6HiSEw4zUyJF"
      },
      "source": [
        "# Prediction"
      ]
    },
    {
      "cell_type": "markdown",
      "metadata": {
        "id": "QhV5Qh72U3Rb"
      },
      "source": [
        "## Supervised"
      ]
    },
    {
      "cell_type": "markdown",
      "metadata": {
        "id": "b0142MckU4b8"
      },
      "source": [
        "## Unsupervised"
      ]
    },
    {
      "cell_type": "markdown",
      "metadata": {
        "id": "ydQ0a560U8Mz"
      },
      "source": [
        "# Results"
      ]
    },
    {
      "cell_type": "code",
      "metadata": {
        "id": "a6RsacEIUQbr"
      },
      "source": [
        ""
      ],
      "execution_count": null,
      "outputs": []
    }
  ]
}