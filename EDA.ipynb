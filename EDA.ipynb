{
 "cells": [
  {
   "cell_type": "markdown",
   "id": "fresh-plaza",
   "metadata": {},
   "source": [
    "# Imports"
   ]
  },
  {
   "cell_type": "code",
   "execution_count": 1,
   "id": "continent-acrylic",
   "metadata": {},
   "outputs": [
    {
     "name": "stderr",
     "output_type": "stream",
     "text": [
      "[nltk_data] Downloading package stopwords to\n",
      "[nltk_data]     /afs/inf.ed.ac.uk/user/s21/s2125219/nltk_data...\n",
      "[nltk_data]   Package stopwords is already up-to-date!\n"
     ]
    }
   ],
   "source": [
    "import math\n",
    "import json\n",
    "import string\n",
    "import numpy as np\n",
    "import pandas as pd\n",
    "import seaborn as sns\n",
    "import matplotlib.pyplot as plt\n",
    "\n",
    "from sklearn.feature_selection import chi2\n",
    "from sklearn.feature_extraction.text import TfidfVectorizer\n",
    "from data_loader import DataLoader\n",
    "from collections import defaultdict\n",
    "from json import JSONEncoder\n",
    "from helpers import select_n_components, pos_check\n",
    "\n",
    "plt.style.use('ggplot')\n",
    "sns.set_palette('tab10')"
   ]
  },
  {
   "cell_type": "markdown",
   "id": "sealed-boating",
   "metadata": {},
   "source": [
    "# Load Data"
   ]
  },
  {
   "cell_type": "code",
   "execution_count": 2,
   "id": "contained-rescue",
   "metadata": {},
   "outputs": [
    {
     "name": "stderr",
     "output_type": "stream",
     "text": [
      "  1%|▏         | 3543/239073 [00:00<00:06, 35427.42it/s]"
     ]
    },
    {
     "name": "stdout",
     "output_type": "stream",
     "text": [
      "Preprocessing...\n"
     ]
    },
    {
     "name": "stderr",
     "output_type": "stream",
     "text": [
      "100%|██████████| 239073/239073 [00:05<00:00, 43303.47it/s]\n"
     ]
    },
    {
     "data": {
      "text/html": [
       "<div>\n",
       "<style scoped>\n",
       "    .dataframe tbody tr th:only-of-type {\n",
       "        vertical-align: middle;\n",
       "    }\n",
       "\n",
       "    .dataframe tbody tr th {\n",
       "        vertical-align: top;\n",
       "    }\n",
       "\n",
       "    .dataframe thead th {\n",
       "        text-align: right;\n",
       "    }\n",
       "</style>\n",
       "<table border=\"1\" class=\"dataframe\">\n",
       "  <thead>\n",
       "    <tr style=\"text-align: right;\">\n",
       "      <th></th>\n",
       "      <th>phrase_id</th>\n",
       "      <th>phrase</th>\n",
       "      <th>phrase_clean</th>\n",
       "      <th>sentiment_val</th>\n",
       "      <th>label_id</th>\n",
       "      <th>label</th>\n",
       "    </tr>\n",
       "  </thead>\n",
       "  <tbody>\n",
       "    <tr>\n",
       "      <th>148727</th>\n",
       "      <td>85845</td>\n",
       "      <td>leather pants &amp; augmented boobs , Hawn</td>\n",
       "      <td>leather pants augmented boobs Hawn</td>\n",
       "      <td>0.48611</td>\n",
       "      <td>3.0</td>\n",
       "      <td>Neutral</td>\n",
       "    </tr>\n",
       "    <tr>\n",
       "      <th>159410</th>\n",
       "      <td>127653</td>\n",
       "      <td>mugs his way through Snow Dogs</td>\n",
       "      <td>mugs way Snow Dogs</td>\n",
       "      <td>0.47222</td>\n",
       "      <td>3.0</td>\n",
       "      <td>Neutral</td>\n",
       "    </tr>\n",
       "    <tr>\n",
       "      <th>18175</th>\n",
       "      <td>63777</td>\n",
       "      <td>Ambitious</td>\n",
       "      <td>Ambitious</td>\n",
       "      <td>0.73611</td>\n",
       "      <td>4.0</td>\n",
       "      <td>Positive</td>\n",
       "    </tr>\n",
       "    <tr>\n",
       "      <th>43979</th>\n",
       "      <td>46501</td>\n",
       "      <td>Perhaps the best sports movie I 've ever seen .</td>\n",
       "      <td>Perhaps best sports movie I ever seen .</td>\n",
       "      <td>1.00000</td>\n",
       "      <td>5.0</td>\n",
       "      <td>Very positive</td>\n",
       "    </tr>\n",
       "    <tr>\n",
       "      <th>180173</th>\n",
       "      <td>169795</td>\n",
       "      <td>reassembled</td>\n",
       "      <td>reassembled</td>\n",
       "      <td>0.43056</td>\n",
       "      <td>3.0</td>\n",
       "      <td>Neutral</td>\n",
       "    </tr>\n",
       "  </tbody>\n",
       "</table>\n",
       "</div>"
      ],
      "text/plain": [
       "        phrase_id                                           phrase  \\\n",
       "148727      85845           leather pants & augmented boobs , Hawn   \n",
       "159410     127653                   mugs his way through Snow Dogs   \n",
       "18175       63777                                        Ambitious   \n",
       "43979       46501  Perhaps the best sports movie I 've ever seen .   \n",
       "180173     169795                                      reassembled   \n",
       "\n",
       "                                   phrase_clean  sentiment_val  label_id  \\\n",
       "148727       leather pants augmented boobs Hawn        0.48611       3.0   \n",
       "159410                       mugs way Snow Dogs        0.47222       3.0   \n",
       "18175                                 Ambitious        0.73611       4.0   \n",
       "43979   Perhaps best sports movie I ever seen .        1.00000       5.0   \n",
       "180173                              reassembled        0.43056       3.0   \n",
       "\n",
       "                label  \n",
       "148727        Neutral  \n",
       "159410        Neutral  \n",
       "18175        Positive  \n",
       "43979   Very positive  \n",
       "180173        Neutral  "
      ]
     },
     "execution_count": 2,
     "metadata": {},
     "output_type": "execute_result"
    }
   ],
   "source": [
    "df, _, _ = DataLoader().create_dataframe(preprocess=True, split=True, remove_duplicates=False)\n",
    "df.head()"
   ]
  },
  {
   "cell_type": "code",
   "execution_count": 3,
   "id": "threatened-holocaust",
   "metadata": {},
   "outputs": [
    {
     "data": {
      "text/plain": [
       "(142410, 6)"
      ]
     },
     "execution_count": 3,
     "metadata": {},
     "output_type": "execute_result"
    }
   ],
   "source": [
    "df.shape"
   ]
  },
  {
   "cell_type": "markdown",
   "id": "external-agency",
   "metadata": {},
   "source": [
    "# Helper functions"
   ]
  },
  {
   "cell_type": "code",
   "execution_count": 4,
   "id": "cardiovascular-potato",
   "metadata": {},
   "outputs": [],
   "source": [
    "def plot_stats(stats, xlabel, ylabel, title, save_fig=False):\n",
    "    fig, ax = plt.subplots(figsize = (8,4))\n",
    "    \n",
    "    ax = stats.mean().plot(kind='bar', alpha=0.65)\n",
    "    ax = stats.median().plot(kind='bar', alpha=0.65)\n",
    "    \n",
    "    ax.set_xlabel(xlabel)\n",
    "    ax.set_ylabel(ylabel)\n",
    "    ax.set_title(title)\n",
    "    \n",
    "    plt.legend(['Mean', 'Median'])\n",
    "    \n",
    "    if save_fig:\n",
    "        plt.savefig('mean_med', dpi=300)"
   ]
  },
  {
   "cell_type": "markdown",
   "id": "experienced-spider",
   "metadata": {},
   "source": [
    "# Duplicates"
   ]
  },
  {
   "cell_type": "code",
   "execution_count": 5,
   "id": "anticipated-governor",
   "metadata": {},
   "outputs": [],
   "source": [
    "class PhraseCount:\n",
    "    def __init__(self):\n",
    "        self.label = \"\"\n",
    "        self.count = 0\n",
    "        \n",
    "class Encoder(JSONEncoder):\n",
    "    def default(self, o):\n",
    "        return o.__dict__\n",
    "\n",
    "def get_phrase_counts(df):\n",
    "    phrase_count = defaultdict(PhraseCount)\n",
    "    \n",
    "    for p, l in zip(df['phrase_clean'], df['label']):\n",
    "        phrase_count[p].label = l\n",
    "        phrase_count[p].count += 1\n",
    "        \n",
    "    return phrase_count\n",
    "    \n",
    "def get_duplicates(df):  \n",
    "    neutral_counts = []\n",
    "    neutral_lens = []\n",
    "\n",
    "    very_neg_counts = []\n",
    "    very_neg_lens = []\n",
    "\n",
    "    neg_counts = []\n",
    "    neg_lens = []\n",
    "\n",
    "    very_pos_counts = []\n",
    "    very_pos_lens = []\n",
    "\n",
    "    pos_counts = []\n",
    "    pos_lens = []\n",
    "\n",
    "    phrase_count = get_phrase_counts(df)\n",
    "    \n",
    "    for k, v in json.loads(Encoder().encode(phrase_count)).items():\n",
    "        if v['count'] > 1:\n",
    "            if v['label'] == 'Neutral':\n",
    "                neutral_counts.append(v['count'])\n",
    "                neutral_lens.append(len(k.split()))\n",
    "            if v['label'] == 'Very negative':\n",
    "                very_neg_counts.append(v['count'])\n",
    "                very_neg_lens.append(len(k.split()))\n",
    "            if v['label'] == 'Negative':\n",
    "                neg_counts.append(v['count'])\n",
    "                neg_lens.append(len(k.split()))\n",
    "            if v['label'] == 'Very positive':\n",
    "                very_pos_counts.append(v['count'])\n",
    "                very_pos_lens.append(len(k.split()))\n",
    "            if v['label'] == 'Positive':\n",
    "                pos_counts.append(v['count'])\n",
    "                pos_lens.append(len(k.split()))\n",
    "    \n",
    "    return neutral_counts, neutral_lens, very_neg_counts, very_neg_lens, neg_counts, neg_lens, very_pos_counts, very_pos_lens, pos_counts, pos_lens\n",
    "\n",
    "neutral_counts, neutral_lens, very_neg_counts, very_neg_lens, neg_counts, neg_lens, very_pos_counts, very_pos_lens, pos_counts, pos_lens = get_duplicates(df)\n",
    "\n",
    "total_neutral = df[df['label'] == 'Neutral'].shape[0]\n",
    "total_very_neg = df[df['label'] == 'Very negative'].shape[0]\n",
    "total_neg = df[df['label'] == 'Negative'].shape[0]\n",
    "total_very_pos = df[df['label'] == 'Very positive'].shape[0]\n",
    "total_pos = df[df['label'] == 'Positive'].shape[0]\n",
    "\n",
    "duplicates = [sum(neutral_counts), sum(pos_counts), sum(neg_counts), sum(very_pos_counts), sum(very_neg_counts)]"
   ]
  },
  {
   "cell_type": "code",
   "execution_count": 6,
   "id": "obvious-missile",
   "metadata": {},
   "outputs": [
    {
     "data": {
      "text/plain": [
       "(3.0287645620595427,\n",
       " 6.001897533206831,\n",
       " 4.674941650753236,\n",
       " 5.239948119325551,\n",
       " 4.353943789664552)"
      ]
     },
     "execution_count": 6,
     "metadata": {},
     "output_type": "execute_result"
    }
   ],
   "source": [
    "np.mean(neutral_lens), np.mean(very_neg_lens), np.mean(neg_lens), np.mean(very_pos_lens), np.mean(pos_lens)"
   ]
  },
  {
   "cell_type": "code",
   "execution_count": 7,
   "id": "british-wildlife",
   "metadata": {},
   "outputs": [
    {
     "data": {
      "text/plain": [
       "(2.0, 5.0, 4.0, 4.0, 3.0)"
      ]
     },
     "execution_count": 7,
     "metadata": {},
     "output_type": "execute_result"
    }
   ],
   "source": [
    "np.median(neutral_lens), np.median(very_neg_lens), np.median(neg_lens), np.median(very_pos_lens), np.median(pos_lens)"
   ]
  },
  {
   "cell_type": "code",
   "execution_count": 8,
   "id": "active-peninsula",
   "metadata": {},
   "outputs": [
    {
     "data": {
      "text/plain": [
       "([<matplotlib.axis.XTick at 0x7fdf8aabe650>,\n",
       "  <matplotlib.axis.XTick at 0x7fdf8b4f31d0>,\n",
       "  <matplotlib.axis.XTick at 0x7fdf8ce54b50>,\n",
       "  <matplotlib.axis.XTick at 0x7fdf8cdcfc90>,\n",
       "  <matplotlib.axis.XTick at 0x7fdf8cd2bf10>],\n",
       " [Text(0, 0, 'Neutral'),\n",
       "  Text(1, 0, 'Positive'),\n",
       "  Text(2, 0, 'Negative'),\n",
       "  Text(3, 0, 'Very positive'),\n",
       "  Text(4, 0, 'Very negative')])"
      ]
     },
     "execution_count": 8,
     "metadata": {},
     "output_type": "execute_result"
    },
    {
     "data": {
      "image/png": "[encoded data removed]",
      "text/plain": [
       "<Figure size 720x432 with 1 Axes>"
      ]
     },
     "metadata": {},
     "output_type": "display_data"
    }
   ],
   "source": [
    "fig, ax = plt.subplots(figsize = (10,6))\n",
    "\n",
    "sns.boxplot(data=[neutral_lens, pos_lens, neg_lens, very_pos_lens, very_neg_lens])\n",
    "plt.title('Phrase length for duplicate phrases', fontsize=16)\n",
    "plt.ylabel('Phrase length')\n",
    "\n",
    "plt.xticks(ticks=[0, 1, 2, 3, 4], \n",
    "           labels=['Neutral', 'Positive', 'Negative', 'Very positive', 'Very negative'],\n",
    "           rotation=0)\n",
    "\n",
    "# plt.savefig('phrase_len', dpi=300)"
   ]
  },
  {
   "cell_type": "code",
   "execution_count": 9,
   "id": "molecular-overall",
   "metadata": {},
   "outputs": [],
   "source": [
    "totals = [total_neutral, total_pos, total_neg, total_very_pos, total_very_neg]"
   ]
  },
  {
   "cell_type": "code",
   "execution_count": 10,
   "id": "minor-yield",
   "metadata": {},
   "outputs": [],
   "source": [
    "dupls = pd.DataFrame({'Total': totals, 'Duplicate': duplicates})"
   ]
  },
  {
   "cell_type": "code",
   "execution_count": 11,
   "id": "varied-grounds",
   "metadata": {},
   "outputs": [
    {
     "data": {
      "text/plain": [
       "(142410, 65132)"
      ]
     },
     "execution_count": 11,
     "metadata": {},
     "output_type": "execute_result"
    }
   ],
   "source": [
    "dupls['Total'].sum(), dupls['Duplicate'].sum()"
   ]
  },
  {
   "cell_type": "code",
   "execution_count": 12,
   "id": "monetary-museum",
   "metadata": {
    "scrolled": false
   },
   "outputs": [
    {
     "data": {
      "text/plain": [
       "Text(0.5, 0, 'Sentiment')"
      ]
     },
     "execution_count": 12,
     "metadata": {},
     "output_type": "execute_result"
    },
    {
     "data": {
      "image/png": "[encoded data removed]",
      "text/plain": [
       "<Figure size 720x432 with 1 Axes>"
      ]
     },
     "metadata": {},
     "output_type": "display_data"
    }
   ],
   "source": [
    "ax = dupls.plot(kind='bar', stacked=False, alpha=0.65, figsize=(10,6))\n",
    "ax.set_xticklabels(['Neutral', 'Positive', 'Negative', 'Very positive', 'Very negative'], rotation=0)\n",
    "ax.set_title('Number of deduplicated phrases per label', fontsize=16)\n",
    "ax.set_ylabel('Frequency')\n",
    "ax.set_xlabel('Sentiment')\n",
    "\n",
    "# plt.savefig('dupls', dpi=300)"
   ]
  },
  {
   "cell_type": "code",
   "execution_count": 13,
   "id": "numeric-wright",
   "metadata": {
    "scrolled": true
   },
   "outputs": [],
   "source": [
    "phrases_to_dedup = []\n",
    "\n",
    "phrase_count = get_phrase_counts(df)\n",
    "\n",
    "for k, v in json.loads(Encoder().encode(phrase_count)).items():\n",
    "    if v['count'] > 1: # Duplicates\n",
    "        if len(k.split()) > 4:\n",
    "            if v['label'] == 'Positive':\n",
    "                phrases_to_dedup.append(k)"
   ]
  },
  {
   "cell_type": "code",
   "execution_count": 14,
   "id": "subtle-budget",
   "metadata": {},
   "outputs": [
    {
     "data": {
      "text/plain": [
       "['yes It like old friend dinner .',\n",
       " 'Martin Barbara complex characters sometimes tender sometimes angry',\n",
       " 'Blade II estrogenfree movies get',\n",
       " 'going make splash even greater Arnold Schwarzenegger JeanClaud Van Damme Steven Segal',\n",
       " 'become one movies creepiest conventions developmentally disabled',\n",
       " 'brilliant surfing photography bringing right inside massive waves lifts Blue Crush one summer pleasurable movies',\n",
       " 'roiling blackandwhite inspires trembling gratitude .',\n",
       " 'still worthy addition growing canon postSaving Private Ryan tributes greatest generation .',\n",
       " 'Russell Dreyfus romantic pairing hearts preciously exposed history corners .',\n",
       " 'picture realizes fullness negate subject .',\n",
       " 'witness several greekamerican weddings happily',\n",
       " 'cool event whole family . Maybe classic',\n",
       " 'kind engaging historical drama Hollywood appears given favor sentimental war movies vein We Were Soldiers',\n",
       " 'another Best Man clone weaving theme throughout funny film',\n",
       " 'subtly kinky bedside vigils sensational denouements',\n",
       " 'exoticism seas sand fierce grandeur sweeping battle scenes',\n",
       " 'John Turturro simply fab Spanish butler foot fetish .',\n",
       " 'Hart War much recommend even topbilled Willis impressive player .',\n",
       " 'Seldahl Wollter sterling performances raise far level usual maudlin disease movie .',\n",
       " 'gives ample opportunity largescale action suspense',\n",
       " 'see one imagination lead given opportunity',\n",
       " 'Yiddish theater whose jolly funforfun sake communal spirit goes essence Broadway',\n",
       " 'striking quietly vulnerable personality Ms. Ambrose',\n",
       " 'one Mr . Chabrol subtlest works also one uncanny',\n",
       " 'jaded critic smacks something truly new .',\n",
       " 'something little special behind music nt sell many records helped change nation',\n",
       " 'hope good movie ye enter',\n",
       " 'never tease except gently way makes us consider eccentricities expressed homes',\n",
       " 'It also clear start The Transporter running purely adrenaline',\n",
       " 'unlike likely see anywhere else',\n",
       " 'demonstrate still lot life Hong Kong cinema .',\n",
       " 'saddest films I ever seen still manages uplifting overly sentimental',\n",
       " 'von Sydow ... Intacto luckiest stroke',\n",
       " 'deeply appealing veteran Bouquet chilling quite human Berling',\n",
       " 'ambiguity lends conflicts symbolic resonance',\n",
       " 'worthwhile tutorial quantum physics slashdash',\n",
       " 'enough story fill two hours',\n",
       " 'wellwritten Sexy Beast gloriously flippant Lock Stock Two Smoking Barrels stylish moody',\n",
       " 'course reviewing arthouse obscurities slambam action flicks jaded critic smacks something truly new .',\n",
       " 'tap heartbeat world salute universal language rhythm zippy sampling sounds',\n",
       " 'matched Schweig carries film broad handsome shoulders',\n",
       " 'one Mr. Chabrol subtlest works',\n",
       " 'one big laugh three four mild giggles',\n",
       " 'film conjures magic author J.K. Rowling books',\n",
       " 'better characters genuine quirkiness least measure style',\n",
       " 'nt transform Caviezel movie star',\n",
       " 'Hell House fascinating document event seen believed .',\n",
       " 'making queen thoroughly modern maiden',\n",
       " 'never loses touch reality grim situation',\n",
       " 'bravura lead performance Bruce Campbell nt deserve leave building everyone aware']"
      ]
     },
     "execution_count": 14,
     "metadata": {},
     "output_type": "execute_result"
    }
   ],
   "source": [
    "phrases_to_dedup[:50]"
   ]
  },
  {
   "cell_type": "markdown",
   "id": "banned-sigma",
   "metadata": {},
   "source": [
    "# Label Class Balance"
   ]
  },
  {
   "cell_type": "code",
   "execution_count": 15,
   "id": "restricted-terrace",
   "metadata": {},
   "outputs": [
    {
     "data": {
      "text/plain": [
       "[Text(0, 0, 'Neutral'),\n",
       " Text(1, 0, 'Positive'),\n",
       " Text(2, 0, 'Negative'),\n",
       " Text(3, 0, 'Very positive'),\n",
       " Text(4, 0, 'Very negative')]"
      ]
     },
     "execution_count": 15,
     "metadata": {},
     "output_type": "execute_result"
    },
    {
     "data": {
      "image/png": "[encoded data removed]",
      "text/plain": [
       "<Figure size 576x288 with 1 Axes>"
      ]
     },
     "metadata": {},
     "output_type": "display_data"
    }
   ],
   "source": [
    "fig, ax = plt.subplots(figsize = (8,4))\n",
    "ax = df['label'].sort_values(ascending=False).value_counts().plot(kind='bar', alpha=0.65)\n",
    "ax.set_xlabel('Sentiment')\n",
    "ax.set_ylabel('Frequency')\n",
    "ax.set_title('Class label balance')\n",
    "\n",
    "ax.set_xticklabels(['Neutral', 'Positive', 'Negative', 'Very positive', 'Very negative'], rotation=0)"
   ]
  },
  {
   "cell_type": "markdown",
   "id": "generous-sentence",
   "metadata": {},
   "source": [
    "# Word Count"
   ]
  },
  {
   "cell_type": "code",
   "execution_count": 16,
   "id": "immune-accessory",
   "metadata": {},
   "outputs": [
    {
     "data": {
      "text/html": [
       "<div>\n",
       "<style scoped>\n",
       "    .dataframe tbody tr th:only-of-type {\n",
       "        vertical-align: middle;\n",
       "    }\n",
       "\n",
       "    .dataframe tbody tr th {\n",
       "        vertical-align: top;\n",
       "    }\n",
       "\n",
       "    .dataframe thead th {\n",
       "        text-align: right;\n",
       "    }\n",
       "</style>\n",
       "<table border=\"1\" class=\"dataframe\">\n",
       "  <thead>\n",
       "    <tr style=\"text-align: right;\">\n",
       "      <th></th>\n",
       "      <th>count</th>\n",
       "      <th>mean</th>\n",
       "      <th>std</th>\n",
       "      <th>min</th>\n",
       "      <th>25%</th>\n",
       "      <th>50%</th>\n",
       "      <th>75%</th>\n",
       "      <th>max</th>\n",
       "    </tr>\n",
       "    <tr>\n",
       "      <th>label</th>\n",
       "      <th></th>\n",
       "      <th></th>\n",
       "      <th></th>\n",
       "      <th></th>\n",
       "      <th></th>\n",
       "      <th></th>\n",
       "      <th></th>\n",
       "      <th></th>\n",
       "    </tr>\n",
       "  </thead>\n",
       "  <tbody>\n",
       "    <tr>\n",
       "      <th>Negative</th>\n",
       "      <td>25918.0</td>\n",
       "      <td>5.557528</td>\n",
       "      <td>4.366650</td>\n",
       "      <td>1.0</td>\n",
       "      <td>2.0</td>\n",
       "      <td>4.0</td>\n",
       "      <td>8.0</td>\n",
       "      <td>30.0</td>\n",
       "    </tr>\n",
       "    <tr>\n",
       "      <th>Neutral</th>\n",
       "      <td>70779.0</td>\n",
       "      <td>3.272185</td>\n",
       "      <td>3.110194</td>\n",
       "      <td>1.0</td>\n",
       "      <td>1.0</td>\n",
       "      <td>2.0</td>\n",
       "      <td>4.0</td>\n",
       "      <td>28.0</td>\n",
       "    </tr>\n",
       "    <tr>\n",
       "      <th>Positive</th>\n",
       "      <td>29852.0</td>\n",
       "      <td>5.139287</td>\n",
       "      <td>4.211864</td>\n",
       "      <td>1.0</td>\n",
       "      <td>2.0</td>\n",
       "      <td>4.0</td>\n",
       "      <td>7.0</td>\n",
       "      <td>29.0</td>\n",
       "    </tr>\n",
       "    <tr>\n",
       "      <th>Very negative</th>\n",
       "      <td>6730.0</td>\n",
       "      <td>7.252303</td>\n",
       "      <td>4.920132</td>\n",
       "      <td>1.0</td>\n",
       "      <td>3.0</td>\n",
       "      <td>6.0</td>\n",
       "      <td>10.0</td>\n",
       "      <td>30.0</td>\n",
       "    </tr>\n",
       "    <tr>\n",
       "      <th>Very positive</th>\n",
       "      <td>9131.0</td>\n",
       "      <td>6.558646</td>\n",
       "      <td>4.719484</td>\n",
       "      <td>1.0</td>\n",
       "      <td>3.0</td>\n",
       "      <td>5.0</td>\n",
       "      <td>9.0</td>\n",
       "      <td>28.0</td>\n",
       "    </tr>\n",
       "  </tbody>\n",
       "</table>\n",
       "</div>"
      ],
      "text/plain": [
       "                 count      mean       std  min  25%  50%   75%   max\n",
       "label                                                                \n",
       "Negative       25918.0  5.557528  4.366650  1.0  2.0  4.0   8.0  30.0\n",
       "Neutral        70779.0  3.272185  3.110194  1.0  1.0  2.0   4.0  28.0\n",
       "Positive       29852.0  5.139287  4.211864  1.0  2.0  4.0   7.0  29.0\n",
       "Very negative   6730.0  7.252303  4.920132  1.0  3.0  6.0  10.0  30.0\n",
       "Very positive   9131.0  6.558646  4.719484  1.0  3.0  5.0   9.0  28.0"
      ]
     },
     "execution_count": 16,
     "metadata": {},
     "output_type": "execute_result"
    }
   ],
   "source": [
    "df['word_count'] = df['phrase_clean'].apply(lambda x: len(str(x).split()))\n",
    "\n",
    "word_stats = df.groupby('label')['word_count']\n",
    "word_stats.describe()"
   ]
  },
  {
   "cell_type": "code",
   "execution_count": 17,
   "id": "reverse-father",
   "metadata": {
    "scrolled": true
   },
   "outputs": [
    {
     "data": {
      "image/png": "[encoded data removed]",
      "text/plain": [
       "<Figure size 576x288 with 1 Axes>"
      ]
     },
     "metadata": {},
     "output_type": "display_data"
    }
   ],
   "source": [
    "plot_stats(word_stats, xlabel='Sentiment', ylabel='', title='Mean and Median Number of Words per Label')"
   ]
  },
  {
   "cell_type": "markdown",
   "id": "fabulous-thailand",
   "metadata": {},
   "source": [
    "# Punctuation Count"
   ]
  },
  {
   "cell_type": "code",
   "execution_count": 18,
   "id": "universal-facility",
   "metadata": {},
   "outputs": [],
   "source": [
    "df['punct_count'] = df['phrase'].apply(lambda x: len(\"\".join(_ for _ in x if _ in string.punctuation)))"
   ]
  },
  {
   "cell_type": "code",
   "execution_count": 19,
   "id": "insured-shareware",
   "metadata": {},
   "outputs": [
    {
     "data": {
      "text/html": [
       "<div>\n",
       "<style scoped>\n",
       "    .dataframe tbody tr th:only-of-type {\n",
       "        vertical-align: middle;\n",
       "    }\n",
       "\n",
       "    .dataframe tbody tr th {\n",
       "        vertical-align: top;\n",
       "    }\n",
       "\n",
       "    .dataframe thead th {\n",
       "        text-align: right;\n",
       "    }\n",
       "</style>\n",
       "<table border=\"1\" class=\"dataframe\">\n",
       "  <thead>\n",
       "    <tr style=\"text-align: right;\">\n",
       "      <th></th>\n",
       "      <th>count</th>\n",
       "      <th>mean</th>\n",
       "      <th>std</th>\n",
       "      <th>min</th>\n",
       "      <th>25%</th>\n",
       "      <th>50%</th>\n",
       "      <th>75%</th>\n",
       "      <th>max</th>\n",
       "    </tr>\n",
       "    <tr>\n",
       "      <th>label</th>\n",
       "      <th></th>\n",
       "      <th></th>\n",
       "      <th></th>\n",
       "      <th></th>\n",
       "      <th></th>\n",
       "      <th></th>\n",
       "      <th></th>\n",
       "      <th></th>\n",
       "    </tr>\n",
       "  </thead>\n",
       "  <tbody>\n",
       "    <tr>\n",
       "      <th>Negative</th>\n",
       "      <td>25918.0</td>\n",
       "      <td>1.354155</td>\n",
       "      <td>1.879191</td>\n",
       "      <td>0.0</td>\n",
       "      <td>0.0</td>\n",
       "      <td>1.0</td>\n",
       "      <td>2.0</td>\n",
       "      <td>21.0</td>\n",
       "    </tr>\n",
       "    <tr>\n",
       "      <th>Neutral</th>\n",
       "      <td>70779.0</td>\n",
       "      <td>0.731658</td>\n",
       "      <td>1.348961</td>\n",
       "      <td>0.0</td>\n",
       "      <td>0.0</td>\n",
       "      <td>0.0</td>\n",
       "      <td>1.0</td>\n",
       "      <td>23.0</td>\n",
       "    </tr>\n",
       "    <tr>\n",
       "      <th>Positive</th>\n",
       "      <td>29852.0</td>\n",
       "      <td>1.169101</td>\n",
       "      <td>1.716892</td>\n",
       "      <td>0.0</td>\n",
       "      <td>0.0</td>\n",
       "      <td>1.0</td>\n",
       "      <td>2.0</td>\n",
       "      <td>17.0</td>\n",
       "    </tr>\n",
       "    <tr>\n",
       "      <th>Very negative</th>\n",
       "      <td>6730.0</td>\n",
       "      <td>1.972808</td>\n",
       "      <td>2.306826</td>\n",
       "      <td>0.0</td>\n",
       "      <td>0.0</td>\n",
       "      <td>1.0</td>\n",
       "      <td>3.0</td>\n",
       "      <td>22.0</td>\n",
       "    </tr>\n",
       "    <tr>\n",
       "      <th>Very positive</th>\n",
       "      <td>9131.0</td>\n",
       "      <td>1.598401</td>\n",
       "      <td>1.983622</td>\n",
       "      <td>0.0</td>\n",
       "      <td>0.0</td>\n",
       "      <td>1.0</td>\n",
       "      <td>2.0</td>\n",
       "      <td>18.0</td>\n",
       "    </tr>\n",
       "  </tbody>\n",
       "</table>\n",
       "</div>"
      ],
      "text/plain": [
       "                 count      mean       std  min  25%  50%  75%   max\n",
       "label                                                               \n",
       "Negative       25918.0  1.354155  1.879191  0.0  0.0  1.0  2.0  21.0\n",
       "Neutral        70779.0  0.731658  1.348961  0.0  0.0  0.0  1.0  23.0\n",
       "Positive       29852.0  1.169101  1.716892  0.0  0.0  1.0  2.0  17.0\n",
       "Very negative   6730.0  1.972808  2.306826  0.0  0.0  1.0  3.0  22.0\n",
       "Very positive   9131.0  1.598401  1.983622  0.0  0.0  1.0  2.0  18.0"
      ]
     },
     "execution_count": 19,
     "metadata": {},
     "output_type": "execute_result"
    }
   ],
   "source": [
    "punct_stats = df.groupby('label')['punct_count']\n",
    "punct_stats.describe()"
   ]
  },
  {
   "cell_type": "code",
   "execution_count": 20,
   "id": "involved-activity",
   "metadata": {
    "scrolled": true
   },
   "outputs": [
    {
     "data": {
      "image/png": "[encoded data removed]",
      "text/plain": [
       "<Figure size 576x288 with 1 Axes>"
      ]
     },
     "metadata": {},
     "output_type": "display_data"
    }
   ],
   "source": [
    "plot_stats(punct_stats, xlabel='Sentiment', ylabel='', title='Mean and Median Number of Punctuation per Label')"
   ]
  },
  {
   "cell_type": "markdown",
   "id": "measured-alarm",
   "metadata": {},
   "source": [
    "- Punctuation occurs more often in in the extreme sentiments.\n",
    "- Could be a good feature to include in classification to discriminate classes from each other."
   ]
  },
  {
   "cell_type": "markdown",
   "id": "outside-illinois",
   "metadata": {},
   "source": [
    "# Upper case letter count"
   ]
  },
  {
   "cell_type": "code",
   "execution_count": 21,
   "id": "bottom-toronto",
   "metadata": {},
   "outputs": [],
   "source": [
    "df['num_caps'] = df['phrase_clean'].apply(lambda x: sum(1 for c in x if c.isupper()))"
   ]
  },
  {
   "cell_type": "code",
   "execution_count": 22,
   "id": "color-cloud",
   "metadata": {},
   "outputs": [
    {
     "data": {
      "text/html": [
       "<div>\n",
       "<style scoped>\n",
       "    .dataframe tbody tr th:only-of-type {\n",
       "        vertical-align: middle;\n",
       "    }\n",
       "\n",
       "    .dataframe tbody tr th {\n",
       "        vertical-align: top;\n",
       "    }\n",
       "\n",
       "    .dataframe thead th {\n",
       "        text-align: right;\n",
       "    }\n",
       "</style>\n",
       "<table border=\"1\" class=\"dataframe\">\n",
       "  <thead>\n",
       "    <tr style=\"text-align: right;\">\n",
       "      <th></th>\n",
       "      <th>count</th>\n",
       "      <th>mean</th>\n",
       "      <th>std</th>\n",
       "      <th>min</th>\n",
       "      <th>25%</th>\n",
       "      <th>50%</th>\n",
       "      <th>75%</th>\n",
       "      <th>max</th>\n",
       "    </tr>\n",
       "    <tr>\n",
       "      <th>label</th>\n",
       "      <th></th>\n",
       "      <th></th>\n",
       "      <th></th>\n",
       "      <th></th>\n",
       "      <th></th>\n",
       "      <th></th>\n",
       "      <th></th>\n",
       "      <th></th>\n",
       "    </tr>\n",
       "  </thead>\n",
       "  <tbody>\n",
       "    <tr>\n",
       "      <th>Negative</th>\n",
       "      <td>25918.0</td>\n",
       "      <td>1.354155</td>\n",
       "      <td>1.879191</td>\n",
       "      <td>0.0</td>\n",
       "      <td>0.0</td>\n",
       "      <td>1.0</td>\n",
       "      <td>2.0</td>\n",
       "      <td>21.0</td>\n",
       "    </tr>\n",
       "    <tr>\n",
       "      <th>Neutral</th>\n",
       "      <td>70779.0</td>\n",
       "      <td>0.731658</td>\n",
       "      <td>1.348961</td>\n",
       "      <td>0.0</td>\n",
       "      <td>0.0</td>\n",
       "      <td>0.0</td>\n",
       "      <td>1.0</td>\n",
       "      <td>23.0</td>\n",
       "    </tr>\n",
       "    <tr>\n",
       "      <th>Positive</th>\n",
       "      <td>29852.0</td>\n",
       "      <td>1.169101</td>\n",
       "      <td>1.716892</td>\n",
       "      <td>0.0</td>\n",
       "      <td>0.0</td>\n",
       "      <td>1.0</td>\n",
       "      <td>2.0</td>\n",
       "      <td>17.0</td>\n",
       "    </tr>\n",
       "    <tr>\n",
       "      <th>Very negative</th>\n",
       "      <td>6730.0</td>\n",
       "      <td>1.972808</td>\n",
       "      <td>2.306826</td>\n",
       "      <td>0.0</td>\n",
       "      <td>0.0</td>\n",
       "      <td>1.0</td>\n",
       "      <td>3.0</td>\n",
       "      <td>22.0</td>\n",
       "    </tr>\n",
       "    <tr>\n",
       "      <th>Very positive</th>\n",
       "      <td>9131.0</td>\n",
       "      <td>1.598401</td>\n",
       "      <td>1.983622</td>\n",
       "      <td>0.0</td>\n",
       "      <td>0.0</td>\n",
       "      <td>1.0</td>\n",
       "      <td>2.0</td>\n",
       "      <td>18.0</td>\n",
       "    </tr>\n",
       "  </tbody>\n",
       "</table>\n",
       "</div>"
      ],
      "text/plain": [
       "                 count      mean       std  min  25%  50%  75%   max\n",
       "label                                                               \n",
       "Negative       25918.0  1.354155  1.879191  0.0  0.0  1.0  2.0  21.0\n",
       "Neutral        70779.0  0.731658  1.348961  0.0  0.0  0.0  1.0  23.0\n",
       "Positive       29852.0  1.169101  1.716892  0.0  0.0  1.0  2.0  17.0\n",
       "Very negative   6730.0  1.972808  2.306826  0.0  0.0  1.0  3.0  22.0\n",
       "Very positive   9131.0  1.598401  1.983622  0.0  0.0  1.0  2.0  18.0"
      ]
     },
     "execution_count": 22,
     "metadata": {},
     "output_type": "execute_result"
    }
   ],
   "source": [
    "numcap_stats = df.groupby('label')['punct_count']\n",
    "numcap_stats.describe()"
   ]
  },
  {
   "cell_type": "code",
   "execution_count": 23,
   "id": "built-compromise",
   "metadata": {},
   "outputs": [
    {
     "data": {
      "image/png": "[encoded data removed]",
      "text/plain": [
       "<Figure size 576x288 with 1 Axes>"
      ]
     },
     "metadata": {},
     "output_type": "display_data"
    }
   ],
   "source": [
    "plot_stats(numcap_stats, xlabel='Sentiment', ylabel='', title='Mean and Median Number of Capital Letters per Label')"
   ]
  },
  {
   "cell_type": "markdown",
   "id": "cellular-beijing",
   "metadata": {},
   "source": [
    "- Capital letters occur more often in in the extreme sentiments.\n",
    "- Could be a good feature to include in classification to discriminate classes from each other, as well."
   ]
  },
  {
   "cell_type": "markdown",
   "id": "eleven-cleaners",
   "metadata": {},
   "source": [
    "# Density plot of above stats"
   ]
  },
  {
   "cell_type": "code",
   "execution_count": 66,
   "id": "foster-pleasure",
   "metadata": {
    "scrolled": true
   },
   "outputs": [
    {
     "data": {
      "text/plain": [
       "(-1.0, 20.0)"
      ]
     },
     "execution_count": 66,
     "metadata": {},
     "output_type": "execute_result"
    },
    {
     "data": {
      "image/png": "[encoded data removed]",
      "text/plain": [
       "<Figure size 720x432 with 1 Axes>"
      ]
     },
     "metadata": {},
     "output_type": "display_data"
    }
   ],
   "source": [
    "fig, ax = plt.subplots(nrows=1, ncols=1, figsize=(10, 6))\n",
    "fig.suptitle('KDE of Phrase Length', fontsize=16)\n",
    "\n",
    "labels = df['label'].unique()\n",
    "\n",
    "ax = sns.kdeplot(data=df, x=df['word_count'], \n",
    "                 hue=df['label'], \n",
    "                 shade=True)\n",
    "ax.set_ylim(0, 0.1)\n",
    "ax.set_xlim(-1, 20)\n",
    "\n",
    "#plt.savefig('kde', dpi=300)"
   ]
  },
  {
   "cell_type": "markdown",
   "id": "eleven-symbol",
   "metadata": {},
   "source": [
    "# LDA"
   ]
  },
  {
   "cell_type": "code",
   "execution_count": null,
   "id": "appreciated-algebra",
   "metadata": {},
   "outputs": [],
   "source": [
    "from sklearn.discriminant_analysis import LinearDiscriminantAnalysis"
   ]
  },
  {
   "cell_type": "code",
   "execution_count": null,
   "id": "negative-oxide",
   "metadata": {},
   "outputs": [],
   "source": [
    "train, validate, _ = DataLoader().create_dataframe(preprocess=True, split=True, remove_duplicates=True)"
   ]
  },
  {
   "cell_type": "code",
   "execution_count": null,
   "id": "desperate-instruction",
   "metadata": {},
   "outputs": [],
   "source": [
    "train.shape"
   ]
  },
  {
   "cell_type": "code",
   "execution_count": null,
   "id": "bored-charles",
   "metadata": {},
   "outputs": [],
   "source": [
    "X_train, y_train = train['phrase_clean'], train['label_id']\n",
    "X_val, y_val = validate['phrase_clean'], validate['label_id']"
   ]
  },
  {
   "cell_type": "code",
   "execution_count": null,
   "id": "attempted-equity",
   "metadata": {},
   "outputs": [],
   "source": [
    "tfidf_vect = TfidfVectorizer(analyzer='word', \n",
    "                             max_features=10000, \n",
    "                             use_idf=True, \n",
    "                             ngram_range=(1,3))"
   ]
  },
  {
   "cell_type": "code",
   "execution_count": null,
   "id": "requested-highway",
   "metadata": {},
   "outputs": [],
   "source": [
    "vect = tfidf_vect.fit(X_train)\n",
    "X_train_tfidf = vect.transform(X_train)\n",
    "X_val_tfidf = vect.transform(X_val)"
   ]
  },
  {
   "cell_type": "code",
   "execution_count": null,
   "id": "destroyed-onion",
   "metadata": {},
   "outputs": [],
   "source": [
    "X_train_tfidf.shape"
   ]
  },
  {
   "cell_type": "code",
   "execution_count": null,
   "id": "vocal-choice",
   "metadata": {},
   "outputs": [],
   "source": [
    "X_dense = X_train_tfidf.toarray()\n",
    "\n",
    "lda = LinearDiscriminantAnalysis(n_components=None)\n",
    "X_lda = lda.fit(X_dense, y_train)"
   ]
  },
  {
   "cell_type": "code",
   "execution_count": null,
   "id": "signal-portuguese",
   "metadata": {},
   "outputs": [],
   "source": [
    "lda_var_ratios = lda.explained_variance_ratio_"
   ]
  },
  {
   "cell_type": "code",
   "execution_count": null,
   "id": "acting-distinction",
   "metadata": {},
   "outputs": [],
   "source": [
    "lda_var_ratios"
   ]
  },
  {
   "cell_type": "code",
   "execution_count": null,
   "id": "adolescent-product",
   "metadata": {},
   "outputs": [],
   "source": [
    "lda.explained_variance_ratio_"
   ]
  },
  {
   "cell_type": "code",
   "execution_count": null,
   "id": "clear-innocent",
   "metadata": {},
   "outputs": [],
   "source": [
    "select_n_components(lda_var_ratios, 0.95)"
   ]
  },
  {
   "cell_type": "code",
   "execution_count": null,
   "id": "difficult-happiness",
   "metadata": {},
   "outputs": [],
   "source": [
    "plt.figure(figsize=(10,6))\n",
    "plt.plot(np.cumsum(lda.explained_variance_ratio_))\n",
    "plt.xlabel('Number of components')\n",
    "plt.ylabel('Cumulative explained variance')\n",
    "plt.title('LDA Cumulative Explained Variance', fontsize=16)\n",
    "plt.savefig('lda', dpi=300)"
   ]
  },
  {
   "cell_type": "code",
   "execution_count": null,
   "id": "premier-walter",
   "metadata": {},
   "outputs": [],
   "source": [
    "lda_2 = LinearDiscriminantAnalysis(n_components=2)\n",
    "X_lda = lda_2.fit(X_dense, y_train).transform(X_dense)"
   ]
  },
  {
   "cell_type": "code",
   "execution_count": null,
   "id": "serial-debut",
   "metadata": {},
   "outputs": [],
   "source": [
    "plt.scatter(X_lda[:, 0], X_lda[:, 1], c=train['label_id'], \n",
    "            edgecolor='none', \n",
    "            alpha=0.25, \n",
    "            cmap=plt.get_cmap('Spectral', 10))\n",
    "\n",
    "plt.colorbar()\n",
    "plt.xlabel('Component 1')\n",
    "plt.ylabel('Component 2')\n",
    "\n",
    "plt.title('2D LDA Plot of TF-IDF input vectors', fontsize=16)\n",
    "plt.savefig('lda-2d', dpi=300)"
   ]
  }
 ],
 "metadata": {
  "kernelspec": {
   "display_name": "Python 3",
   "language": "python",
   "name": "python3"
  },
  "language_info": {
   "codemirror_mode": {
    "name": "ipython",
    "version": 3
   },
   "file_extension": ".py",
   "mimetype": "text/x-python",
   "name": "python",
   "nbconvert_exporter": "python",
   "pygments_lexer": "ipython3",
   "version": "3.7.10"
  }
 },
 "nbformat": 4,
 "nbformat_minor": 5
}
